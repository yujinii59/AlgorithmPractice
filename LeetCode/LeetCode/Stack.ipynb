{
 "cells": [
  {
   "cell_type": "markdown",
   "id": "fdbf9eb5",
   "metadata": {},
   "source": [
    "#### 844. Backspace String Compare"
   ]
  },
  {
   "cell_type": "code",
   "execution_count": 3,
   "id": "dd20ec36",
   "metadata": {},
   "outputs": [],
   "source": [
    "def backspaceCompare(s, t):\n",
    "    s_stack = []\n",
    "    t_stack = []\n",
    "    \n",
    "    for ss in s:\n",
    "        if ss == '#' and s_stack:\n",
    "            s_stack.pop()\n",
    "        elif ss != '#':\n",
    "            s_stack.append(ss)\n",
    "            \n",
    "    for ss in t:\n",
    "        if ss == '#' and t_stack:\n",
    "            t_stack.pop()\n",
    "        elif ss != '#':\n",
    "            t_stack.append(ss)\n",
    "            \n",
    "    return s_stack == t_stack"
   ]
  },
  {
   "cell_type": "code",
   "execution_count": 4,
   "id": "9218fbf5",
   "metadata": {},
   "outputs": [
    {
     "data": {
      "text/plain": [
       "True"
      ]
     },
     "execution_count": 4,
     "metadata": {},
     "output_type": "execute_result"
    }
   ],
   "source": [
    "backspaceCompare(\"ab##\", \"c#d#\")"
   ]
  },
  {
   "cell_type": "markdown",
   "id": "718eb138",
   "metadata": {},
   "source": [
    "#### 394. Decode String"
   ]
  },
  {
   "cell_type": "code",
   "execution_count": 10,
   "id": "90e98817",
   "metadata": {},
   "outputs": [],
   "source": [
    "def decodeString(s):\n",
    "    string = ''\n",
    "    tmps = ['']\n",
    "    nums = ['']\n",
    "    prev = True\n",
    "    for ss in s:\n",
    "        if ss.isnumeric():\n",
    "            if prev:\n",
    "                nums.append('')\n",
    "                prev = False\n",
    "            num = nums.pop()\n",
    "            num += ss\n",
    "            nums.append(num)\n",
    "        elif ss == '[':\n",
    "            prev = True\n",
    "            tmps.append('')\n",
    "        elif ss == ']':\n",
    "            prev = True\n",
    "            sss = tmps.pop() * int(nums.pop())\n",
    "            if tmps:\n",
    "                tmps.append(tmps.pop()+sss)\n",
    "            else:\n",
    "                tmps.append(sss)\n",
    "        else:\n",
    "            prev = True\n",
    "            tmps.append(tmps.pop()+ss)\n",
    "    return ''.join(tmps)"
   ]
  },
  {
   "cell_type": "code",
   "execution_count": 12,
   "id": "147e4223",
   "metadata": {},
   "outputs": [
    {
     "data": {
      "text/plain": [
       "['abcabccdcdcdef']"
      ]
     },
     "execution_count": 12,
     "metadata": {},
     "output_type": "execute_result"
    }
   ],
   "source": [
    "decodeString(s = \"2[abc]3[cd]ef\")"
   ]
  },
  {
   "cell_type": "code",
   "execution_count": null,
   "id": "40d46fb0",
   "metadata": {},
   "outputs": [],
   "source": [
    "def decodeString(s):\n",
    "    num = ''\n",
    "    string = ''\n",
    "    b = False\n",
    "    tmp = ''\n",
    "    for ss in s:\n",
    "        if ss.isnumeric():\n",
    "            num += ss\n",
    "        elif ss == '[':\n",
    "            b = True\n",
    "        elif ss == ']':\n",
    "            b = False\n",
    "            string += tmp * int(num)\n",
    "            tmp = ''\n",
    "            num = ''\n",
    "        else:\n",
    "            if b:\n",
    "                tmp += ss\n",
    "            else:\n",
    "                string += ss\n",
    "                \n",
    "    return string"
   ]
  },
  {
   "cell_type": "code",
   "execution_count": null,
   "id": "5fce530a",
   "metadata": {},
   "outputs": [],
   "source": []
  }
 ],
 "metadata": {
  "kernelspec": {
   "display_name": "python3.8",
   "language": "python",
   "name": "python3.8"
  },
  "language_info": {
   "codemirror_mode": {
    "name": "ipython",
    "version": 3
   },
   "file_extension": ".py",
   "mimetype": "text/x-python",
   "name": "python",
   "nbconvert_exporter": "python",
   "pygments_lexer": "ipython3",
   "version": "3.8.16"
  }
 },
 "nbformat": 4,
 "nbformat_minor": 5
}
