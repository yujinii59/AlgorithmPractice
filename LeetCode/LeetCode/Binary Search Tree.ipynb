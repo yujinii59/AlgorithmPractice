{
 "cells": [
  {
   "cell_type": "markdown",
   "id": "a30c659e",
   "metadata": {},
   "source": [
    "#### 98. Validate Binary Search Tree"
   ]
  },
  {
   "cell_type": "code",
   "execution_count": null,
   "id": "2a39cc09",
   "metadata": {},
   "outputs": [],
   "source": [
    "# Definition for a binary tree node.\n",
    "# class TreeNode:\n",
    "#     def __init__(self, val=0, left=None, right=None):\n",
    "#         self.val = val\n",
    "#         self.left = left\n",
    "#         self.right = right\n",
    "class Solution:\n",
    "    MIN_NUM = -int(1e10)\n",
    "    MAX_NUM = int(1e10)\n",
    "    def isValLocate(self, node, min_num, max_num):\n",
    "        val = node.val\n",
    "        print(val)\n",
    "        if val <= min_num or val >= max_num:\n",
    "            return False\n",
    "        else:\n",
    "            bl, br = True, True\n",
    "            if node.left:\n",
    "                bl = self.isValLocate(node.left, min_num, val)\n",
    "            if node.right:\n",
    "                br = self.isValLocate(node.right, val, max_num)\n",
    "            \n",
    "            return bl and br\n",
    "\n",
    "\n",
    "    def isValidBST(self, root: Optional[TreeNode]) -> bool:\n",
    "        return self.isValLocate(root, self.MIN_NUM, self.MAX_NUM)\n"
   ]
  }
 ],
 "metadata": {
  "kernelspec": {
   "display_name": "python3.8",
   "language": "python",
   "name": "python3.8"
  },
  "language_info": {
   "codemirror_mode": {
    "name": "ipython",
    "version": 3
   },
   "file_extension": ".py",
   "mimetype": "text/x-python",
   "name": "python",
   "nbconvert_exporter": "python",
   "pygments_lexer": "ipython3",
   "version": "3.8.16"
  }
 },
 "nbformat": 4,
 "nbformat_minor": 5
}
