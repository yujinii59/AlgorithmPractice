{
 "cells": [
  {
   "cell_type": "markdown",
   "id": "2a316064",
   "metadata": {},
   "source": [
    "#### 509. Fibonacci Number"
   ]
  },
  {
   "cell_type": "code",
   "execution_count": 1,
   "id": "6236ad61",
   "metadata": {},
   "outputs": [],
   "source": [
    "def fib(n):\n",
    "    dp = [0,1]\n",
    "    for i in range(2, n+1):\n",
    "        dp.append(dp[i-2] + dp[i-1])\n",
    "    return dp[n]"
   ]
  },
  {
   "cell_type": "code",
   "execution_count": 4,
   "id": "068fa1a1",
   "metadata": {},
   "outputs": [
    {
     "data": {
      "text/plain": [
       "3"
      ]
     },
     "execution_count": 4,
     "metadata": {},
     "output_type": "execute_result"
    }
   ],
   "source": [
    "fib(4)"
   ]
  },
  {
   "cell_type": "markdown",
   "id": "b0d98d1f",
   "metadata": {},
   "source": [
    "#### 70. Climbing Stairs"
   ]
  },
  {
   "cell_type": "code",
   "execution_count": null,
   "id": "0541369b",
   "metadata": {},
   "outputs": [],
   "source": [
    "def climbStairs(n: int) -> int:\n",
    "    dp = [1,1]\n",
    "    for i in range(2, n+1):\n",
    "        dp.append(dp[i-2]+dp[i-1])\n",
    "    return dp[n]"
   ]
  },
  {
   "cell_type": "markdown",
   "id": "0f3d687a",
   "metadata": {},
   "source": [
    "#### 746. Min Cost Climbing Stairs"
   ]
  },
  {
   "cell_type": "code",
   "execution_count": 5,
   "id": "9820639f",
   "metadata": {},
   "outputs": [],
   "source": [
    "def minCostClimbingStairs(cost):\n",
    "    for i in range(2, len(cost)):\n",
    "        cost[i] += min(cost[i-2],cost[i-1])\n",
    "        \n",
    "    return min(cost[-1], cost[-2])"
   ]
  },
  {
   "cell_type": "code",
   "execution_count": 7,
   "id": "70542fe2",
   "metadata": {},
   "outputs": [
    {
     "data": {
      "text/plain": [
       "6"
      ]
     },
     "execution_count": 7,
     "metadata": {},
     "output_type": "execute_result"
    }
   ],
   "source": [
    "minCostClimbingStairs(cost = [1,100,1,1,1,100,1,1,100,1])"
   ]
  },
  {
   "cell_type": "markdown",
   "id": "c4ce91b0",
   "metadata": {},
   "source": [
    "#### 62. Unique Paths"
   ]
  },
  {
   "cell_type": "code",
   "execution_count": 10,
   "id": "c7fcdf27",
   "metadata": {},
   "outputs": [],
   "source": [
    "def uniquePaths(m, n):\n",
    "    cases = [[0]*n for _ in range(m)]\n",
    "    cases[0][0] = 1\n",
    "    for i in range(m):\n",
    "        for j in range(n):\n",
    "            for r,c in [(-1,0),(0,-1)]:\n",
    "                pr = r+i\n",
    "                pc = c+j\n",
    "                if pr < 0 or pc < 0 or pr >= m or pc >= n:\n",
    "                    continue\n",
    "                cases[i][j] += cases[pr][pc]\n",
    "    return cases[m-1][n-1]"
   ]
  },
  {
   "cell_type": "code",
   "execution_count": 12,
   "id": "f1f06ef4",
   "metadata": {},
   "outputs": [
    {
     "data": {
      "text/plain": [
       "3"
      ]
     },
     "execution_count": 12,
     "metadata": {},
     "output_type": "execute_result"
    }
   ],
   "source": [
    "uniquePaths(3, 2)"
   ]
  },
  {
   "cell_type": "code",
   "execution_count": null,
   "id": "c3283d2c",
   "metadata": {},
   "outputs": [],
   "source": []
  }
 ],
 "metadata": {
  "kernelspec": {
   "display_name": "python3.8",
   "language": "python",
   "name": "python3.8"
  },
  "language_info": {
   "codemirror_mode": {
    "name": "ipython",
    "version": 3
   },
   "file_extension": ".py",
   "mimetype": "text/x-python",
   "name": "python",
   "nbconvert_exporter": "python",
   "pygments_lexer": "ipython3",
   "version": "3.8.16"
  }
 },
 "nbformat": 4,
 "nbformat_minor": 5
}
