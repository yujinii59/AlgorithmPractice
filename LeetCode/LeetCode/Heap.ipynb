{
 "cells": [
  {
   "cell_type": "markdown",
   "id": "a584a5e6",
   "metadata": {},
   "source": [
    "#### 1046. Last Stone Weight"
   ]
  },
  {
   "cell_type": "code",
   "execution_count": 19,
   "id": "b54d25b3",
   "metadata": {},
   "outputs": [],
   "source": [
    "import heapq\n",
    "\n",
    "def lastStoneWeight(stones):\n",
    "    q = []\n",
    "    for stone in stones:\n",
    "        heapq.heappush(q, -stone)\n",
    "        \n",
    "    while len(q) > 1:\n",
    "        y, x = heapq.heappop(q), heapq.heappop(q)\n",
    "        if x > y:\n",
    "            heapq.heappush(q, y-x)\n",
    "            \n",
    "    if q:\n",
    "        rst = -heapq.heappop(q)\n",
    "    else:\n",
    "        rst = 0\n",
    "    return rst"
   ]
  },
  {
   "cell_type": "code",
   "execution_count": 21,
   "id": "2de6040b",
   "metadata": {},
   "outputs": [
    {
     "data": {
      "text/plain": [
       "1"
      ]
     },
     "execution_count": 21,
     "metadata": {},
     "output_type": "execute_result"
    }
   ],
   "source": [
    "lastStoneWeight(stones = [1])"
   ]
  },
  {
   "cell_type": "markdown",
   "id": "aadd8b84",
   "metadata": {},
   "source": [
    "#### 692. Top K Frequent Words"
   ]
  },
  {
   "cell_type": "code",
   "execution_count": 25,
   "id": "800b4422",
   "metadata": {},
   "outputs": [],
   "source": [
    "from collections import Counter\n",
    "\n",
    "def topKFrequent(words, k):\n",
    "    counter = sorted(Counter(words).items(), key=lambda x: -x[1])\n",
    "    \n",
    "    rst = []\n",
    "    for word, cnt in counter:\n",
    "        if k:\n",
    "            rst.append(word)\n",
    "            k -= 1\n",
    "        else:\n",
    "            break\n",
    "            \n",
    "    return rst\n",
    "    "
   ]
  },
  {
   "cell_type": "code",
   "execution_count": 27,
   "id": "f412a412",
   "metadata": {},
   "outputs": [
    {
     "data": {
      "text/plain": [
       "['the', 'is', 'sunny', 'day']"
      ]
     },
     "execution_count": 27,
     "metadata": {},
     "output_type": "execute_result"
    }
   ],
   "source": [
    "topKFrequent(words = [\"the\",\"day\",\"is\",\"sunny\",\"the\",\"the\",\"the\",\"sunny\",\"is\",\"is\"], k = 4)"
   ]
  },
  {
   "cell_type": "code",
   "execution_count": null,
   "id": "394a2a4a",
   "metadata": {},
   "outputs": [],
   "source": []
  }
 ],
 "metadata": {
  "kernelspec": {
   "display_name": "python3.8",
   "language": "python",
   "name": "python3.8"
  },
  "language_info": {
   "codemirror_mode": {
    "name": "ipython",
    "version": 3
   },
   "file_extension": ".py",
   "mimetype": "text/x-python",
   "name": "python",
   "nbconvert_exporter": "python",
   "pygments_lexer": "ipython3",
   "version": "3.8.16"
  }
 },
 "nbformat": 4,
 "nbformat_minor": 5
}
