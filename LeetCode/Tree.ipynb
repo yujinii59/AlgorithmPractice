{
 "cells": [
  {
   "cell_type": "markdown",
   "id": "3275c17f",
   "metadata": {},
   "source": [
    "#### 589. N-ary Tree Preorder Traversal"
   ]
  },
  {
   "cell_type": "code",
   "execution_count": 2,
   "id": "17b1a56e",
   "metadata": {},
   "outputs": [],
   "source": [
    "class Node:\n",
    "    def __init__(self, val=None, children=None):\n",
    "        self.val = val\n",
    "        self.children = children\n",
    "\n",
    "def recur(node):\n",
    "        rst = [node.val]\n",
    "        if node.children is None:\n",
    "            return []\n",
    "        \n",
    "        elif type(node.children) == 'Node':\n",
    "            rst.extend(recur(node.children))\n",
    "\n",
    "        else:\n",
    "            for n in node.children:\n",
    "                rst.extend(recur(n))\n",
    "\n",
    "        return rst\n",
    "\n",
    "def preorder(root: 'Node'):\n",
    "    if root is None:\n",
    "        return []\n",
    "\n",
    "    answer = recur(root)\n",
    "    return answer"
   ]
  },
  {
   "cell_type": "code",
   "execution_count": null,
   "id": "0007dd0b",
   "metadata": {},
   "outputs": [],
   "source": []
  }
 ],
 "metadata": {
  "kernelspec": {
   "display_name": "python3.8",
   "language": "python",
   "name": "python3.8"
  },
  "language_info": {
   "codemirror_mode": {
    "name": "ipython",
    "version": 3
   },
   "file_extension": ".py",
   "mimetype": "text/x-python",
   "name": "python",
   "nbconvert_exporter": "python",
   "pygments_lexer": "ipython3",
   "version": "3.8.16"
  }
 },
 "nbformat": 4,
 "nbformat_minor": 5
}
