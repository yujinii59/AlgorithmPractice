{
 "cells": [
  {
   "cell_type": "markdown",
   "id": "10b60a71",
   "metadata": {},
   "source": [
    "#### 437. Path Sum III"
   ]
  },
  {
   "cell_type": "code",
   "execution_count": null,
   "id": "31a7aee5",
   "metadata": {},
   "outputs": [],
   "source": []
  },
  {
   "cell_type": "markdown",
   "id": "faea052b",
   "metadata": {},
   "source": [
    "#### 543. Diameter of Binary Tree"
   ]
  },
  {
   "cell_type": "code",
   "execution_count": null,
   "id": "777dddac",
   "metadata": {},
   "outputs": [],
   "source": [
    "# Definition for a binary tree node.\n",
    "class TreeNode:\n",
    "    def __init__(self, val=0, left=None, right=None):\n",
    "        self.val = val\n",
    "        self.left = left\n",
    "        self.right = right\n",
    "class Solution:\n",
    "    def distance(self, node: Optional[TreeNode]):\n",
    "        lcnt = 0\n",
    "        rcnt = 0\n",
    "        llongest = 0\n",
    "        rlongest = 0\n",
    "        if node.left:\n",
    "            lcnt, llongest = self.distance(node.left)\n",
    "        if node.right:\n",
    "            rcnt, rlongest = self.distance(node.right)\n",
    "\n",
    "        cnt = max(lcnt, rcnt) + 1\n",
    "        longest = max(lcnt + rcnt + 1, llongest, rlongest)\n",
    "        return cnt, longest\n",
    "\n",
    "\n",
    "    def diameterOfBinaryTree(self, root: Optional[TreeNode]) -> int:\n",
    "        if root:\n",
    "            cnt, longest = self.distance(root)\n",
    "            longest -= 1\n",
    "        else:\n",
    "            longest = 0\n",
    "        return longest"
   ]
  },
  {
   "cell_type": "markdown",
   "id": "3beb90d8",
   "metadata": {},
   "source": [
    "#### 110. Balanced Binary Tree"
   ]
  },
  {
   "cell_type": "code",
   "execution_count": 11,
   "id": "5c5bc159",
   "metadata": {},
   "outputs": [],
   "source": [
    "class TreeNode:\n",
    "    def __init__(self, val=0, left=None, right=None):\n",
    "        self.val = val\n",
    "        self.left = left\n",
    "        self.right = right\n",
    "class Solution:\n",
    "    def count_child_height(self, node):\n",
    "        left = 0\n",
    "        right = 0\n",
    "        left_b, right_b = True, True\n",
    "        cnt = 1\n",
    "        if node.left:\n",
    "            left, left_b = self.count_child_height(node.left)\n",
    "        if node.right:\n",
    "            right, right_b = self.count_child_height(node.right)\n",
    "            \n",
    "        if (left_b and right_b) and abs(left-right) < 2:\n",
    "            return (max(left, right) + 1, True)\n",
    "        else:\n",
    "            return (0, False)\n",
    "\n",
    "    def isBalanced(self, root: Optional[TreeNode]) -> bool:\n",
    "        b = True\n",
    "        if root:\n",
    "            cnt, b = self.count_child_height(root)\n",
    "        \n",
    "        return b\n",
    "            "
   ]
  },
  {
   "cell_type": "markdown",
   "id": "ae1f1faa",
   "metadata": {},
   "source": [
    "#### 226. Invert Binary Tree"
   ]
  },
  {
   "cell_type": "code",
   "execution_count": 9,
   "id": "68c24d40",
   "metadata": {},
   "outputs": [],
   "source": [
    "class TreeNode:\n",
    "    def __init__(self, val=0, left=None, right=None):\n",
    "        self.val = val\n",
    "        self.left = left\n",
    "        self.right = right\n",
    "class Solution:\n",
    "    def dfs_Tree(self, origin):\n",
    "        val = origin.val\n",
    "        node = TreeNode(val=val)\n",
    "        if origin.left:\n",
    "            node.right = self.dfs_Tree(origin.left)\n",
    "            \n",
    "        if origin.right:\n",
    "            node.left = self.dfs_Tree(origin.right)\n",
    "            \n",
    "        return node\n",
    "    \n",
    "    def invertTree(self, root: TreeNode) -> TreeNode:\n",
    "        if root:\n",
    "            node = self.dfs_Tree(root)\n",
    "        else:\n",
    "            node = None\n",
    "        return node"
   ]
  },
  {
   "cell_type": "markdown",
   "id": "22bc5da6",
   "metadata": {},
   "source": [
    "#### 589. N-ary Tree Preorder Traversal"
   ]
  },
  {
   "cell_type": "code",
   "execution_count": 2,
   "id": "5b5f0afe",
   "metadata": {},
   "outputs": [],
   "source": [
    "class Node:\n",
    "    def __init__(self, val=None, children=None):\n",
    "        self.val = val\n",
    "        self.children = children\n",
    "\n",
    "def recur(node):\n",
    "        rst = [node.val]\n",
    "        if node.children is None:\n",
    "            return []\n",
    "        \n",
    "        elif isinstance(node.children, Node):\n",
    "            rst.extend(recur(node.children))\n",
    "\n",
    "        else:\n",
    "            for n in node.children:\n",
    "                rst.extend(recur(n))\n",
    "\n",
    "        return rst\n",
    "\n",
    "def preorder(root: 'Node'):\n",
    "    if root is None:\n",
    "        return []\n",
    "\n",
    "    answer = recur(root)\n",
    "    return answer"
   ]
  },
  {
   "cell_type": "markdown",
   "id": "eeedb2d2",
   "metadata": {},
   "source": [
    "#### 102. Binary Tree Level Order Traversal"
   ]
  },
  {
   "cell_type": "code",
   "execution_count": 3,
   "id": "20bce8f3",
   "metadata": {},
   "outputs": [
    {
     "name": "stdout",
     "output_type": "stream",
     "text": [
      "[1, 2, 3, 3, 4, 5]\n"
     ]
    }
   ],
   "source": [
    "class TreeNode:\n",
    "    def __init__(self, val=0, left=None, right=None):\n",
    "        self.val = val\n",
    "        self.left = left\n",
    "        self.right = right\n",
    "class Solution:\n",
    "    def recur(self, node, depth, nodes):\n",
    "        if nodes.get(depth, 0):\n",
    "            nodes[depth].append(node.val)\n",
    "        else:\n",
    "            nodes[depth] = [node.val]\n",
    "\n",
    "        if node.left is not None:\n",
    "            if isinstance(node.left, TreeNode):\n",
    "                nodes = self.recur(node.left, depth+1, nodes)\n",
    "            else:\n",
    "                for n in node.left:\n",
    "                    nodes = self.recur(n, depth+1, nodes)\n",
    "        if node.right is not None:\n",
    "            if isinstance(node.right, TreeNode):\n",
    "                nodes = self.recur(node.right, depth+1, nodes)\n",
    "            else:\n",
    "                for n in node.right:\n",
    "                    nodes = self.recur(n, depth+1, nodes)\n",
    "        return nodes\n",
    "\n",
    "    def levelOrder(self, root: Optional[TreeNode]) -> List[List[int]]:\n",
    "        if root is None:\n",
    "            return []\n",
    "        else:\n",
    "            nodes = self.recur(root, 1, {})\n",
    "            rst = list(nodes.values())\n",
    "            return rst"
   ]
  },
  {
   "cell_type": "code",
   "execution_count": null,
   "id": "1a80991e",
   "metadata": {},
   "outputs": [],
   "source": []
  }
 ],
 "metadata": {
  "kernelspec": {
   "display_name": "python3.8",
   "language": "python",
   "name": "python3.8"
  },
  "language_info": {
   "codemirror_mode": {
    "name": "ipython",
    "version": 3
   },
   "file_extension": ".py",
   "mimetype": "text/x-python",
   "name": "python",
   "nbconvert_exporter": "python",
   "pygments_lexer": "ipython3",
   "version": "3.8.16"
  }
 },
 "nbformat": 4,
 "nbformat_minor": 5
}
