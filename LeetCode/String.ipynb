{
 "cells": [
  {
   "cell_type": "markdown",
   "id": "e5a7f89b",
   "metadata": {},
   "source": [
    "#### 205. Isomorphic Strings"
   ]
  },
  {
   "cell_type": "code",
   "execution_count": 1,
   "id": "9a7502d3",
   "metadata": {},
   "outputs": [],
   "source": [
    "def isIsomorphic(s: str, t: str) -> bool:\n",
    "    mapping_s = {}\n",
    "    mapping_t = {}\n",
    "    b = True\n",
    "    for i in range(len(s)):\n",
    "        ms = mapping_s.get(s[i], '')\n",
    "        mt = mapping_t.get(t[i], '')\n",
    "        if ms == '' and mt == '':\n",
    "            mapping_s[s[i]] = t[i]\n",
    "            mapping_t[t[i]] = s[i]\n",
    "        elif ms != '' and mt != '':\n",
    "            if ms != t[i] or mt != s[i]:\n",
    "                b = False\n",
    "                break\n",
    "        else:\n",
    "            b = False\n",
    "            break\n",
    "    return b"
   ]
  },
  {
   "cell_type": "code",
   "execution_count": 4,
   "id": "69299252",
   "metadata": {},
   "outputs": [
    {
     "data": {
      "text/plain": [
       "True"
      ]
     },
     "execution_count": 4,
     "metadata": {},
     "output_type": "execute_result"
    }
   ],
   "source": [
    "isIsomorphic(s = \"paper\", t = \"title\")"
   ]
  },
  {
   "cell_type": "markdown",
   "id": "e18736dd",
   "metadata": {},
   "source": [
    "#### 392. Is Subsequence"
   ]
  },
  {
   "cell_type": "code",
   "execution_count": 5,
   "id": "2081bff5",
   "metadata": {},
   "outputs": [],
   "source": [
    "def isSubsequence(s: str, t: str) -> bool:\n",
    "    if s == '':\n",
    "        return True\n",
    "    i = 0\n",
    "    b = False\n",
    "    for alpha in t:\n",
    "        if alpha == s[i]:\n",
    "            i += 1\n",
    "        if i == len(s):\n",
    "            b = True\n",
    "            break\n",
    "    return b\n",
    "            "
   ]
  },
  {
   "cell_type": "code",
   "execution_count": 7,
   "id": "0d976654",
   "metadata": {},
   "outputs": [
    {
     "data": {
      "text/plain": [
       "False"
      ]
     },
     "execution_count": 7,
     "metadata": {},
     "output_type": "execute_result"
    }
   ],
   "source": [
    "isSubsequence(s = \"axc\", t = \"ahbgdc\")"
   ]
  },
  {
   "cell_type": "code",
   "execution_count": null,
   "id": "2e724256",
   "metadata": {},
   "outputs": [],
   "source": []
  }
 ],
 "metadata": {
  "kernelspec": {
   "display_name": "python3.8",
   "language": "python",
   "name": "python3.8"
  },
  "language_info": {
   "codemirror_mode": {
    "name": "ipython",
    "version": 3
   },
   "file_extension": ".py",
   "mimetype": "text/x-python",
   "name": "python",
   "nbconvert_exporter": "python",
   "pygments_lexer": "ipython3",
   "version": "3.8.16"
  }
 },
 "nbformat": 4,
 "nbformat_minor": 5
}
