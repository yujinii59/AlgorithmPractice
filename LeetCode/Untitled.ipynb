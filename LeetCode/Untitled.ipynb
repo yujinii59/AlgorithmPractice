{
 "cells": [
  {
   "cell_type": "markdown",
   "id": "322284e5",
   "metadata": {},
   "source": [
    "#### 3. Longest Substring Without Repeating Characters"
   ]
  },
  {
   "cell_type": "code",
   "execution_count": 5,
   "id": "4a19102f",
   "metadata": {},
   "outputs": [],
   "source": [
    "def lengthOfLongestSubstring(s: str) -> int:\n",
    "    answer = 0\n",
    "    ss = ''\n",
    "    for char in s:\n",
    "        if ss.find(char) == -1:\n",
    "            ss += char\n",
    "        else:\n",
    "            ss = ss[ss.index(char)+1:]+char\n",
    "            \n",
    "        if len(ss) > answer:\n",
    "            answer = len(ss)\n",
    "    return answer"
   ]
  },
  {
   "cell_type": "code",
   "execution_count": 8,
   "id": "6dae43de",
   "metadata": {},
   "outputs": [
    {
     "data": {
      "text/plain": [
       "3"
      ]
     },
     "execution_count": 8,
     "metadata": {},
     "output_type": "execute_result"
    }
   ],
   "source": [
    "lengthOfLongestSubstring('pwwkew')"
   ]
  },
  {
   "cell_type": "markdown",
   "id": "be4ecfce",
   "metadata": {},
   "source": [
    "#### 2. Add Two Numbers"
   ]
  },
  {
   "cell_type": "code",
   "execution_count": 17,
   "id": "32dfb94b",
   "metadata": {},
   "outputs": [],
   "source": [
    "def addTwoNumbers(l1, l2):\n",
    "    n1 = sum([10**i * n for i, n in enumerate(l1)])\n",
    "    n2 = sum([10**i * n for i, n in enumerate(l2)])\n",
    "    return list(map(int, list(str(n1+n2))[::-1]))"
   ]
  },
  {
   "cell_type": "code",
   "execution_count": 18,
   "id": "8aaa5bd7",
   "metadata": {},
   "outputs": [
    {
     "data": {
      "text/plain": [
       "[8, 9, 9, 9, 0, 0, 0, 1]"
      ]
     },
     "execution_count": 18,
     "metadata": {},
     "output_type": "execute_result"
    }
   ],
   "source": [
    "addTwoNumbers(l1 = [9,9,9,9,9,9,9], l2 = [9,9,9,9])"
   ]
  },
  {
   "cell_type": "code",
   "execution_count": null,
   "id": "ac1e551d",
   "metadata": {},
   "outputs": [],
   "source": []
  }
 ],
 "metadata": {
  "kernelspec": {
   "display_name": "python3.8",
   "language": "python",
   "name": "python3.8"
  },
  "language_info": {
   "codemirror_mode": {
    "name": "ipython",
    "version": 3
   },
   "file_extension": ".py",
   "mimetype": "text/x-python",
   "name": "python",
   "nbconvert_exporter": "python",
   "pygments_lexer": "ipython3",
   "version": "3.8.16"
  }
 },
 "nbformat": 4,
 "nbformat_minor": 5
}
