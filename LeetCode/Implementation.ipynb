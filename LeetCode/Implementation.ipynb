{
 "cells": [
  {
   "cell_type": "markdown",
   "id": "2be9ffac",
   "metadata": {},
   "source": [
    "#### 202. Happy Number"
   ]
  },
  {
   "cell_type": "code",
   "execution_count": 1,
   "id": "21c8bfe6",
   "metadata": {},
   "outputs": [],
   "source": [
    "def isHappy(n):\n",
    "    nums = set()\n",
    "    b = False\n",
    "    while n not in nums:\n",
    "        nums.add(n)\n",
    "        if n == 1:\n",
    "            b = True\n",
    "            break\n",
    "            \n",
    "        n_str = str(n)\n",
    "        n = 0\n",
    "        for num in n_str:\n",
    "            n += int(num)**2\n",
    "            \n",
    "    \n",
    "    return b"
   ]
  },
  {
   "cell_type": "code",
   "execution_count": 2,
   "id": "ad4c1a93",
   "metadata": {},
   "outputs": [
    {
     "data": {
      "text/plain": [
       "True"
      ]
     },
     "execution_count": 2,
     "metadata": {},
     "output_type": "execute_result"
    }
   ],
   "source": [
    "isHappy(19)"
   ]
  },
  {
   "cell_type": "markdown",
   "id": "9c004832",
   "metadata": {},
   "source": [
    "#### 54. Spiral Matrix"
   ]
  },
  {
   "cell_type": "code",
   "execution_count": 9,
   "id": "8560197a",
   "metadata": {},
   "outputs": [],
   "source": [
    "def spiralOrder(matrix):\n",
    "    r = len(matrix)\n",
    "    c = len(matrix[0])\n",
    "    visited = [[0]*c for _ in range(r)]\n",
    "    directions = {0:(0,1), 1:(1,0), 2:(0,-1), 3:(-1,0)}\n",
    "    curr = [0,0]\n",
    "    direction = 0\n",
    "    rst = []\n",
    "    while True:\n",
    "        x, y = curr\n",
    "        visited[x][y] = 1\n",
    "        rst.append(matrix[x][y])\n",
    "        for i in range(4):\n",
    "            direction = (direction + i) % 4\n",
    "            next_x, next_y = x + directions[direction][0], y + directions[direction][1]\n",
    "            if next_x < 0 or next_x >= r or next_y < 0 or next_y >= c:\n",
    "                continue\n",
    "            if visited[next_x][next_y] == 0:\n",
    "                curr = [next_x, next_y]\n",
    "                break\n",
    "        else:\n",
    "            break\n",
    "            \n",
    "    return rst\n",
    "    "
   ]
  },
  {
   "cell_type": "code",
   "execution_count": 10,
   "id": "73d369f6",
   "metadata": {},
   "outputs": [
    {
     "data": {
      "text/plain": [
       "[1, 2, 3, 4, 8, 12, 11, 10, 9, 5, 6, 7]"
      ]
     },
     "execution_count": 10,
     "metadata": {},
     "output_type": "execute_result"
    }
   ],
   "source": [
    "spiralOrder(matrix = [[1,2,3,4],[5,6,7,8],[9,10,11,12]])"
   ]
  },
  {
   "cell_type": "markdown",
   "id": "0f4b7d5a",
   "metadata": {},
   "source": [
    "#### 1706. Where Will the Ball Fall"
   ]
  },
  {
   "cell_type": "code",
   "execution_count": 11,
   "id": "470c8a09",
   "metadata": {},
   "outputs": [],
   "source": [
    "def findBall(grid):\n",
    "    ball_cnt = len(grid[0])\n",
    "    r = len(grid)\n",
    "    rst = []\n",
    "    for i in range(ball_cnt):\n",
    "        loc = i\n",
    "        for j in range(r):\n",
    "            if grid[j][loc] == 1:\n",
    "                if loc + 1 < ball_cnt and grid[j][loc+1] == 1:\n",
    "                    loc += 1\n",
    "                else:\n",
    "                    rst.append(-1)\n",
    "                    break\n",
    "            else:\n",
    "                if loc - 1 >= 0 and grid[j][loc-1] == -1:\n",
    "                    loc -= 1\n",
    "                else:\n",
    "                    rst.append(-1)\n",
    "                    break\n",
    "        else:\n",
    "            rst.append(loc)\n",
    "    return rst\n",
    "\n"
   ]
  },
  {
   "cell_type": "code",
   "execution_count": 15,
   "id": "c79845fd",
   "metadata": {},
   "outputs": [
    {
     "data": {
      "text/plain": [
       "[0, 1, 2, 3, 4, -1]"
      ]
     },
     "execution_count": 15,
     "metadata": {},
     "output_type": "execute_result"
    }
   ],
   "source": [
    "findBall(grid = [[1,1,1,1,1,1],[-1,-1,-1,-1,-1,-1],[1,1,1,1,1,1],[-1,-1,-1,-1,-1,-1]])"
   ]
  },
  {
   "cell_type": "code",
   "execution_count": null,
   "id": "7c07a0c0",
   "metadata": {},
   "outputs": [],
   "source": []
  }
 ],
 "metadata": {
  "kernelspec": {
   "display_name": "python3.8",
   "language": "python",
   "name": "python3.8"
  },
  "language_info": {
   "codemirror_mode": {
    "name": "ipython",
    "version": 3
   },
   "file_extension": ".py",
   "mimetype": "text/x-python",
   "name": "python",
   "nbconvert_exporter": "python",
   "pygments_lexer": "ipython3",
   "version": "3.8.16"
  }
 },
 "nbformat": 4,
 "nbformat_minor": 5
}
