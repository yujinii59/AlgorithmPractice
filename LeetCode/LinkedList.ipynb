{
 "cells": [
  {
   "cell_type": "code",
   "execution_count": 1,
   "id": "a34dc63a",
   "metadata": {},
   "outputs": [],
   "source": [
    "class ListNode:\n",
    "    def __init__(self, val=0, next=None):\n",
    "        self.val = val\n",
    "        self.next = next"
   ]
  },
  {
   "cell_type": "markdown",
   "id": "2616ec90",
   "metadata": {},
   "source": [
    "#### 21. Merge Two Sorted Lists"
   ]
  },
  {
   "cell_type": "code",
   "execution_count": null,
   "id": "30fb9996",
   "metadata": {},
   "outputs": [],
   "source": [
    "class Solution:\n",
    "    def mergeTwoLists(self, list1: Optional[ListNode], list2: Optional[ListNode]) -> Optional[ListNode]:\n",
    "        \n",
    "        if list1.val <= list2.val:\n",
    "            start = ListNode(val=list1.val)\n",
    "            list1 = list1.next\n",
    "            curr = start\n",
    "        else:\n",
    "            start = ListNode(val=list2.val)\n",
    "            list2 = list2.next\n",
    "            curr = start\n",
    "            \n",
    "        while list1 is not None and list2 is not None:\n",
    "            if list1.val <= list2.val:\n",
    "                curr.next = ListNode(val=list1.val)\n",
    "                list1 = list1.next\n",
    "                curr = curr.next\n",
    "            else:\n",
    "                curr.next = ListNode(val=list2.val)\n",
    "                list2 = list2.next\n",
    "                curr = curr.next\n",
    "            \n",
    "        \n",
    "        if list1 is None:\n",
    "            while list2 is not None:\n",
    "                curr.next = ListNode(val=list2.val)\n",
    "                list2 = list2.next\n",
    "                curr = curr.next\n",
    "        elif list2 is None:\n",
    "            while list1 is not None:\n",
    "                curr.next = ListNode(val=list1.val)\n",
    "                list1 = list1.next\n",
    "                curr = curr.next\n",
    "                \n",
    "        return start"
   ]
  },
  {
   "cell_type": "markdown",
   "id": "25dd0270",
   "metadata": {},
   "source": [
    "#### 206. Reverse Linked List"
   ]
  },
  {
   "cell_type": "code",
   "execution_count": 7,
   "id": "b34d9586",
   "metadata": {},
   "outputs": [],
   "source": [
    "def reverseList(head: ListNode):\n",
    "    if head is None:\n",
    "        return None\n",
    "\n",
    "    curr = ListNode(val=head.val)\n",
    "    head = head.next\n",
    "    while head:\n",
    "        prev = curr\n",
    "        curr = ListNode(val=head.val)\n",
    "        head = head.next\n",
    "        curr.next = prev\n",
    "\n",
    "    return curr"
   ]
  },
  {
   "cell_type": "markdown",
   "id": "72ec63b5",
   "metadata": {},
   "source": [
    "#### 142. Linked List Cycle 2"
   ]
  },
  {
   "cell_type": "code",
   "execution_count": 4,
   "id": "be404098",
   "metadata": {},
   "outputs": [],
   "source": [
    "def detectCycle(head: ListNode) -> ListNode:\n",
    "    i = 0\n",
    "    seq = {}\n",
    "    idx = None\n",
    "    while head:\n",
    "        curr = head.val\n",
    "        if not head.next:\n",
    "            break\n",
    "        nxt = head.next.val\n",
    "        if (curr, nxt) in seq:\n",
    "            idx = head\n",
    "            break\n",
    "        else:\n",
    "            seq[(curr, nxt)] = i\n",
    "            head = head.next\n",
    "        i+=1\n",
    "    return idx"
   ]
  },
  {
   "cell_type": "markdown",
   "id": "b542990d",
   "metadata": {},
   "source": [
    "#### 876. Middle of the Linked List"
   ]
  },
  {
   "cell_type": "code",
   "execution_count": null,
   "id": "7eeae785",
   "metadata": {},
   "outputs": [],
   "source": [
    "def middleNode(head: ListNode) -> ListNode:\n",
    "    "
   ]
  }
 ],
 "metadata": {
  "kernelspec": {
   "display_name": "python3.8",
   "language": "python",
   "name": "python3.8"
  },
  "language_info": {
   "codemirror_mode": {
    "name": "ipython",
    "version": 3
   },
   "file_extension": ".py",
   "mimetype": "text/x-python",
   "name": "python",
   "nbconvert_exporter": "python",
   "pygments_lexer": "ipython3",
   "version": "3.8.16"
  }
 },
 "nbformat": 4,
 "nbformat_minor": 5
}
