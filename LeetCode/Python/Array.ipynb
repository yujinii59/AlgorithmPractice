{
 "cells": [
  {
   "cell_type": "markdown",
   "id": "b5877554",
   "metadata": {},
   "source": [
    "#### 977. Squares of a Sorted Array"
   ]
  },
  {
   "cell_type": "code",
   "execution_count": 5,
   "id": "a52e19c5",
   "metadata": {},
   "outputs": [],
   "source": [
    "def sortedSquares(nums):\n",
    "    return sorted([num ** 2 for num in nums])"
   ]
  },
  {
   "cell_type": "code",
   "execution_count": 6,
   "id": "2d3e44ee",
   "metadata": {},
   "outputs": [
    {
     "data": {
      "text/plain": [
       "[0, 1, 9, 16, 100]"
      ]
     },
     "execution_count": 6,
     "metadata": {},
     "output_type": "execute_result"
    }
   ],
   "source": [
    "sortedSquares(nums = [-4,-1,0,3,10])"
   ]
  },
  {
   "cell_type": "markdown",
   "id": "0eb76f89",
   "metadata": {},
   "source": [
    "#### 1295. Find Numbers with Even Number of Digits"
   ]
  },
  {
   "cell_type": "code",
   "execution_count": 3,
   "id": "5f92fb18",
   "metadata": {},
   "outputs": [],
   "source": [
    "def findNumbers(nums):\n",
    "    rst = 0\n",
    "    for num in nums:\n",
    "        if len(str(num)) % 2 == 0:\n",
    "            rst += 1\n",
    "            \n",
    "    return rst"
   ]
  },
  {
   "cell_type": "code",
   "execution_count": 4,
   "id": "ea8f1d8e",
   "metadata": {},
   "outputs": [
    {
     "data": {
      "text/plain": [
       "2"
      ]
     },
     "execution_count": 4,
     "metadata": {},
     "output_type": "execute_result"
    }
   ],
   "source": [
    "findNumbers(nums = [12,345,2,6,7896])"
   ]
  },
  {
   "cell_type": "markdown",
   "id": "92b8ba67",
   "metadata": {},
   "source": [
    "#### 485. Max Consecutive Ones"
   ]
  },
  {
   "cell_type": "code",
   "execution_count": 1,
   "id": "b668c015",
   "metadata": {},
   "outputs": [],
   "source": [
    "def findMaxConsecutiveOnes(nums):\n",
    "    rst = 0\n",
    "    cnt = 0\n",
    "    for num in nums:\n",
    "        if num == 1:\n",
    "            cnt += 1\n",
    "        else:\n",
    "            rst = max(rst, cnt)\n",
    "            cnt = 0\n",
    "    rst = max(rst, cnt)\n",
    "    return rst"
   ]
  },
  {
   "cell_type": "code",
   "execution_count": 2,
   "id": "8ca4a53b",
   "metadata": {},
   "outputs": [
    {
     "data": {
      "text/plain": [
       "3"
      ]
     },
     "execution_count": 2,
     "metadata": {},
     "output_type": "execute_result"
    }
   ],
   "source": [
    "findMaxConsecutiveOnes(nums = [1,1,0,1,1,1])"
   ]
  },
  {
   "cell_type": "markdown",
   "id": "0fda2a7f",
   "metadata": {},
   "source": [
    "#### 1299. Replace Elements with Greatest Element on Right Side"
   ]
  },
  {
   "cell_type": "code",
   "execution_count": 1,
   "id": "4801eefe",
   "metadata": {},
   "outputs": [],
   "source": [
    "def replaceElements(arr):\n",
    "        length = len(arr)\n",
    "        rst = [-1] * length\n",
    "        i = length - 1\n",
    "        max_elem = -1\n",
    "        for elem in arr[::-1]:\n",
    "            rst[i] = max_elem\n",
    "            max_elem = max(elem, max_elem)\n",
    "            i -= 1\n",
    "            \n",
    "        return rst"
   ]
  },
  {
   "cell_type": "code",
   "execution_count": 2,
   "id": "94cf346d",
   "metadata": {},
   "outputs": [
    {
     "data": {
      "text/plain": [
       "[18, 6, 6, 6, 1, -1]"
      ]
     },
     "execution_count": 2,
     "metadata": {},
     "output_type": "execute_result"
    }
   ],
   "source": [
    "replaceElements(arr = [17,18,5,4,6,1])"
   ]
  },
  {
   "cell_type": "code",
   "execution_count": null,
   "id": "163782b6",
   "metadata": {},
   "outputs": [],
   "source": []
  }
 ],
 "metadata": {
  "kernelspec": {
   "display_name": "python3.8",
   "language": "python",
   "name": "python3.8"
  },
  "language_info": {
   "codemirror_mode": {
    "name": "ipython",
    "version": 3
   },
   "file_extension": ".py",
   "mimetype": "text/x-python",
   "name": "python",
   "nbconvert_exporter": "python",
   "pygments_lexer": "ipython3",
   "version": "3.8.16"
  }
 },
 "nbformat": 4,
 "nbformat_minor": 5
}
