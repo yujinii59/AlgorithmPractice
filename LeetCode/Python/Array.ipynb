{
 "cells": [
  {
   "cell_type": "markdown",
   "id": "6202d4b0",
   "metadata": {},
   "source": [
    "#### 88. Merge Sorted Array"
   ]
  },
  {
   "cell_type": "code",
   "execution_count": 8,
   "id": "75404c0f",
   "metadata": {},
   "outputs": [],
   "source": [
    "def merge(nums1, m, nums2, n):\n",
    "    i = m - 1\n",
    "    j = n - 1\n",
    "    k = m + n - 1\n",
    "    while j >= 0:\n",
    "        if i >= 0 and nums1[i] > nums2[j]:\n",
    "            nums1[k] = nums1[i]\n",
    "            k -= 1\n",
    "            i -= 1\n",
    "        else:\n",
    "            nums1[k]= nums2[j]\n",
    "            k -= 1\n",
    "            j -= 1"
   ]
  },
  {
   "cell_type": "code",
   "execution_count": 9,
   "id": "6be812b6",
   "metadata": {},
   "outputs": [
    {
     "name": "stdout",
     "output_type": "stream",
     "text": [
      "[1, 2, 2, 3, 5, 6]\n"
     ]
    }
   ],
   "source": [
    "nums1 = [1,2,3,0,0,0]\n",
    "m = 3\n",
    "nums2 = [2,5,6]\n",
    "n = 3\n",
    "merge(nums1, m, nums2,n)\n",
    "print(nums1)"
   ]
  },
  {
   "cell_type": "markdown",
   "id": "6ed5dcdb",
   "metadata": {},
   "source": [
    "#### 1089. Duplicate Zeros"
   ]
  },
  {
   "cell_type": "code",
   "execution_count": 3,
   "id": "b962cc2a",
   "metadata": {},
   "outputs": [],
   "source": [
    "def duplicateZeros(arr):\n",
    "        i = 0\n",
    "        j = 1\n",
    "        length = len(arr)\n",
    "        while i < length:\n",
    "            num = arr[i]\n",
    "            if num == 0 and i+1<length:\n",
    "                arr[i+2:] = arr[i+1:-j]\n",
    "                arr[i+1] = 0\n",
    "                i += 1\n",
    "            i += 1"
   ]
  },
  {
   "cell_type": "code",
   "execution_count": 6,
   "id": "3a6a128e",
   "metadata": {},
   "outputs": [
    {
     "name": "stdout",
     "output_type": "stream",
     "text": [
      "[1, 0, 0, 2, 3, 0, 0, 4]\n"
     ]
    }
   ],
   "source": [
    "arr = [1,0,2,3,0,4,5,0]\n",
    "duplicateZeros(arr)\n",
    "print(arr)"
   ]
  },
  {
   "cell_type": "markdown",
   "id": "b5877554",
   "metadata": {},
   "source": [
    "#### 977. Squares of a Sorted Array"
   ]
  },
  {
   "cell_type": "code",
   "execution_count": 5,
   "id": "a52e19c5",
   "metadata": {},
   "outputs": [],
   "source": [
    "def sortedSquares(nums):\n",
    "    return sorted([num ** 2 for num in nums])"
   ]
  },
  {
   "cell_type": "code",
   "execution_count": 6,
   "id": "2d3e44ee",
   "metadata": {},
   "outputs": [
    {
     "data": {
      "text/plain": [
       "[0, 1, 9, 16, 100]"
      ]
     },
     "execution_count": 6,
     "metadata": {},
     "output_type": "execute_result"
    }
   ],
   "source": [
    "sortedSquares(nums = [-4,-1,0,3,10])"
   ]
  },
  {
   "cell_type": "markdown",
   "id": "0eb76f89",
   "metadata": {},
   "source": [
    "#### 1295. Find Numbers with Even Number of Digits"
   ]
  },
  {
   "cell_type": "code",
   "execution_count": 3,
   "id": "5f92fb18",
   "metadata": {},
   "outputs": [],
   "source": [
    "def findNumbers(nums):\n",
    "    rst = 0\n",
    "    for num in nums:\n",
    "        if len(str(num)) % 2 == 0:\n",
    "            rst += 1\n",
    "            \n",
    "    return rst"
   ]
  },
  {
   "cell_type": "code",
   "execution_count": 4,
   "id": "ea8f1d8e",
   "metadata": {},
   "outputs": [
    {
     "data": {
      "text/plain": [
       "2"
      ]
     },
     "execution_count": 4,
     "metadata": {},
     "output_type": "execute_result"
    }
   ],
   "source": [
    "findNumbers(nums = [12,345,2,6,7896])"
   ]
  },
  {
   "cell_type": "markdown",
   "id": "92b8ba67",
   "metadata": {},
   "source": [
    "#### 485. Max Consecutive Ones"
   ]
  },
  {
   "cell_type": "code",
   "execution_count": 1,
   "id": "b668c015",
   "metadata": {},
   "outputs": [],
   "source": [
    "def findMaxConsecutiveOnes(nums):\n",
    "    rst = 0\n",
    "    cnt = 0\n",
    "    for num in nums:\n",
    "        if num == 1:\n",
    "            cnt += 1\n",
    "        else:\n",
    "            rst = max(rst, cnt)\n",
    "            cnt = 0\n",
    "    rst = max(rst, cnt)\n",
    "    return rst"
   ]
  },
  {
   "cell_type": "code",
   "execution_count": 2,
   "id": "8ca4a53b",
   "metadata": {},
   "outputs": [
    {
     "data": {
      "text/plain": [
       "3"
      ]
     },
     "execution_count": 2,
     "metadata": {},
     "output_type": "execute_result"
    }
   ],
   "source": [
    "findMaxConsecutiveOnes(nums = [1,1,0,1,1,1])"
   ]
  },
  {
   "cell_type": "markdown",
   "id": "0fda2a7f",
   "metadata": {},
   "source": [
    "#### 1299. Replace Elements with Greatest Element on Right Side"
   ]
  },
  {
   "cell_type": "code",
   "execution_count": 1,
   "id": "4801eefe",
   "metadata": {},
   "outputs": [],
   "source": [
    "def replaceElements(arr):\n",
    "        length = len(arr)\n",
    "        rst = [-1] * length\n",
    "        i = length - 1\n",
    "        max_elem = -1\n",
    "        for elem in arr[::-1]:\n",
    "            rst[i] = max_elem\n",
    "            max_elem = max(elem, max_elem)\n",
    "            i -= 1\n",
    "            \n",
    "        return rst"
   ]
  },
  {
   "cell_type": "code",
   "execution_count": 2,
   "id": "94cf346d",
   "metadata": {},
   "outputs": [
    {
     "data": {
      "text/plain": [
       "[18, 6, 6, 6, 1, -1]"
      ]
     },
     "execution_count": 2,
     "metadata": {},
     "output_type": "execute_result"
    }
   ],
   "source": [
    "replaceElements(arr = [17,18,5,4,6,1])"
   ]
  },
  {
   "cell_type": "code",
   "execution_count": null,
   "id": "163782b6",
   "metadata": {},
   "outputs": [],
   "source": []
  }
 ],
 "metadata": {
  "kernelspec": {
   "display_name": "python3.8",
   "language": "python",
   "name": "python3.8"
  },
  "language_info": {
   "codemirror_mode": {
    "name": "ipython",
    "version": 3
   },
   "file_extension": ".py",
   "mimetype": "text/x-python",
   "name": "python",
   "nbconvert_exporter": "python",
   "pygments_lexer": "ipython3",
   "version": "3.8.16"
  }
 },
 "nbformat": 4,
 "nbformat_minor": 5
}
