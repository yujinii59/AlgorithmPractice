{
 "cells": [
  {
   "cell_type": "markdown",
   "id": "92454365",
   "metadata": {},
   "source": [
    "#### 448. Find All Numbers Disappeared in an Array"
   ]
  },
  {
   "cell_type": "code",
   "execution_count": 5,
   "id": "104bc158",
   "metadata": {},
   "outputs": [],
   "source": [
    "def findDisappearedNumbers(nums):\n",
    "    n = len(nums)\n",
    "    nums_set = set(nums)\n",
    "    whole = set(list(range(1, n+1)))\n",
    "    do_not_appear = whole - nums_set\n",
    "    return list(do_not_appear)"
   ]
  },
  {
   "cell_type": "code",
   "execution_count": 6,
   "id": "6465a2b3",
   "metadata": {},
   "outputs": [
    {
     "data": {
      "text/plain": [
       "[5, 6]"
      ]
     },
     "execution_count": 6,
     "metadata": {},
     "output_type": "execute_result"
    }
   ],
   "source": [
    "findDisappearedNumbers(nums = [4,3,2,7,8,2,3,1])"
   ]
  },
  {
   "cell_type": "markdown",
   "id": "075d500b",
   "metadata": {},
   "source": [
    "#### 414. Third Maximum Number"
   ]
  },
  {
   "cell_type": "code",
   "execution_count": 3,
   "id": "600b9762",
   "metadata": {},
   "outputs": [],
   "source": [
    "def thirdMax(nums):\n",
    "    if len(set(nums)) < 3:\n",
    "        return max(nums)\n",
    "        \n",
    "    nums = sorted(list(set(nums)), reverse=True)\n",
    "    return nums[2]"
   ]
  },
  {
   "cell_type": "code",
   "execution_count": 4,
   "id": "526a96c3",
   "metadata": {},
   "outputs": [
    {
     "data": {
      "text/plain": [
       "1"
      ]
     },
     "execution_count": 4,
     "metadata": {},
     "output_type": "execute_result"
    }
   ],
   "source": [
    "thirdMax(nums = [2,2,3,1])"
   ]
  },
  {
   "cell_type": "markdown",
   "id": "fafb2cf7",
   "metadata": {},
   "source": [
    "#### 1051. Height Checker"
   ]
  },
  {
   "cell_type": "code",
   "execution_count": 5,
   "id": "7f78ded6",
   "metadata": {},
   "outputs": [],
   "source": [
    "def heightChecker(heights):\n",
    "    cnt = 0\n",
    "    expected = sorted(heights)\n",
    "    for h, e in zip(heights, expected):\n",
    "        if h != e:\n",
    "            cnt += 1\n",
    "            \n",
    "    return cnt"
   ]
  },
  {
   "cell_type": "code",
   "execution_count": 6,
   "id": "9c9c9812",
   "metadata": {},
   "outputs": [
    {
     "data": {
      "text/plain": [
       "3"
      ]
     },
     "execution_count": 6,
     "metadata": {},
     "output_type": "execute_result"
    }
   ],
   "source": [
    "heightChecker(heights = [1,1,4,2,1,3])"
   ]
  },
  {
   "cell_type": "markdown",
   "id": "bde9bfe0",
   "metadata": {},
   "source": [
    "#### 905. Sort Array By Parity"
   ]
  },
  {
   "cell_type": "code",
   "execution_count": 3,
   "id": "c4d91db1",
   "metadata": {},
   "outputs": [],
   "source": [
    "def sortArrayByParity(nums):\n",
    "    odd = []\n",
    "    even = []\n",
    "    for num in nums:\n",
    "        if num % 2:\n",
    "            odd.append(num)\n",
    "        else:\n",
    "            even.append(num)\n",
    "    return even+odd"
   ]
  },
  {
   "cell_type": "code",
   "execution_count": 4,
   "id": "45333e9f",
   "metadata": {},
   "outputs": [
    {
     "data": {
      "text/plain": [
       "[2, 4, 3, 1]"
      ]
     },
     "execution_count": 4,
     "metadata": {},
     "output_type": "execute_result"
    }
   ],
   "source": [
    "sortArrayByParity(nums = [3, 1, 2, 4])"
   ]
  },
  {
   "cell_type": "markdown",
   "id": "fc3677b4",
   "metadata": {},
   "source": [
    "#### 283. Move Zeroes"
   ]
  },
  {
   "cell_type": "code",
   "execution_count": 10,
   "id": "8b13c297",
   "metadata": {},
   "outputs": [],
   "source": [
    "def moveZeroes(nums):\n",
    "        \"\"\"\n",
    "        Do not return anything, modify nums in-place instead.\n",
    "        \"\"\"\n",
    "        length = len(nums)\n",
    "        for i, num in enumerate(nums[::-1]):\n",
    "            if num == 0:\n",
    "                if i == length-1:\n",
    "                    nums[:-1]=nums[1:]\n",
    "                    nums[-1] = 0\n",
    "                elif i == 0:\n",
    "                    pass\n",
    "                else:\n",
    "                    nums[-(i+1):-1] = nums[-i:]\n",
    "                    nums[-1] = 0"
   ]
  },
  {
   "cell_type": "code",
   "execution_count": 11,
   "id": "f97f6c50",
   "metadata": {},
   "outputs": [
    {
     "name": "stdout",
     "output_type": "stream",
     "text": [
      "[0, 0]\n",
      "[0, 0]\n",
      "None\n"
     ]
    }
   ],
   "source": [
    "print(moveZeroes([0,0]))"
   ]
  },
  {
   "cell_type": "markdown",
   "id": "01443146",
   "metadata": {},
   "source": [
    "#### 941. Valid Mountain Array"
   ]
  },
  {
   "cell_type": "code",
   "execution_count": 3,
   "id": "555af666",
   "metadata": {},
   "outputs": [],
   "source": [
    "def validMountainArray(arr):\n",
    "    if len(arr) < 3:\n",
    "        return False\n",
    "\n",
    "    height = arr[0]\n",
    "    state = 0\n",
    "    for h in arr[1:]:\n",
    "        if state == 0:\n",
    "            if height >= h:\n",
    "                return False\n",
    "            else:\n",
    "                height = h\n",
    "                state = 1\n",
    "        elif state == 1:\n",
    "            if height == h:\n",
    "                return False\n",
    "            elif height > h:\n",
    "                state = -1\n",
    "            height = h\n",
    "        else:\n",
    "            if height <= h:\n",
    "                return False\n",
    "            height = h\n",
    "            \n",
    "    if state == 1:\n",
    "        return False\n",
    "    return True"
   ]
  },
  {
   "cell_type": "code",
   "execution_count": 5,
   "id": "47424c13",
   "metadata": {},
   "outputs": [
    {
     "name": "stdout",
     "output_type": "stream",
     "text": [
      "False\n"
     ]
    }
   ],
   "source": [
    "print(validMountainArray(arr = [0,1,2,3,4,5,6,7,8,9]))"
   ]
  },
  {
   "cell_type": "markdown",
   "id": "cace2c21",
   "metadata": {},
   "source": [
    "#### 1346. Check If N and Its Double Exist"
   ]
  },
  {
   "cell_type": "code",
   "execution_count": 1,
   "id": "09385471",
   "metadata": {},
   "outputs": [],
   "source": [
    "def checkIfExist(arr):\n",
    "    arr_set = set()\n",
    "    double_set = set()\n",
    "    for num in arr:\n",
    "        if num * 2 in arr_set or num in double_set:\n",
    "            return True\n",
    "        arr_set.add(num)\n",
    "        double_set.add(num*2)\n",
    "\n",
    "    return False"
   ]
  },
  {
   "cell_type": "code",
   "execution_count": 2,
   "id": "fed74d1a",
   "metadata": {},
   "outputs": [
    {
     "name": "stdout",
     "output_type": "stream",
     "text": [
      "True\n"
     ]
    }
   ],
   "source": [
    "print(checkIfExist(arr=[10,2,5,3]))"
   ]
  },
  {
   "cell_type": "markdown",
   "id": "04c1f839",
   "metadata": {},
   "source": [
    "#### 26. Remove Duplicates from Sorted Array"
   ]
  },
  {
   "cell_type": "code",
   "execution_count": 1,
   "id": "d5b1c3b8",
   "metadata": {},
   "outputs": [],
   "source": [
    "def removeDuplicates(nums):\n",
    "    cnt = 0\n",
    "    prev = 1000\n",
    "    for i, num in enumerate(nums):\n",
    "        if num == prev:\n",
    "            cnt += 1\n",
    "        else:\n",
    "            prev = num\n",
    "            nums[i-cnt] = num\n",
    "            \n",
    "    return len(nums)-cnt"
   ]
  },
  {
   "cell_type": "code",
   "execution_count": 2,
   "id": "00f03b4e",
   "metadata": {},
   "outputs": [
    {
     "name": "stdout",
     "output_type": "stream",
     "text": [
      "5\n"
     ]
    }
   ],
   "source": [
    "print(removeDuplicates(nums = [0,0,1,1,1,2,2,3,3,4]))"
   ]
  },
  {
   "cell_type": "markdown",
   "id": "096d0de9",
   "metadata": {},
   "source": [
    "#### 27. Remove Element"
   ]
  },
  {
   "cell_type": "code",
   "execution_count": 3,
   "id": "623cef1d",
   "metadata": {},
   "outputs": [],
   "source": [
    "def removeElement(nums, val):\n",
    "    cnt = 0\n",
    "    for i, num in enumerate(nums):\n",
    "        if num == val:\n",
    "            cnt += 1\n",
    "        else:\n",
    "            nums[i-cnt] = num\n",
    "            \n",
    "    return len(nums) - cnt"
   ]
  },
  {
   "cell_type": "code",
   "execution_count": 4,
   "id": "65e9303e",
   "metadata": {},
   "outputs": [
    {
     "name": "stdout",
     "output_type": "stream",
     "text": [
      "5\n"
     ]
    }
   ],
   "source": [
    "print(removeElement(nums = [0,1,2,2,3,0,4,2], val = 2))"
   ]
  },
  {
   "cell_type": "markdown",
   "id": "6202d4b0",
   "metadata": {},
   "source": [
    "#### 88. Merge Sorted Array"
   ]
  },
  {
   "cell_type": "code",
   "execution_count": 8,
   "id": "75404c0f",
   "metadata": {},
   "outputs": [],
   "source": [
    "def merge(nums1, m, nums2, n):\n",
    "    i = m - 1\n",
    "    j = n - 1\n",
    "    k = m + n - 1\n",
    "    while j >= 0:\n",
    "        if i >= 0 and nums1[i] > nums2[j]:\n",
    "            nums1[k] = nums1[i]\n",
    "            k -= 1\n",
    "            i -= 1\n",
    "        else:\n",
    "            nums1[k]= nums2[j]\n",
    "            k -= 1\n",
    "            j -= 1"
   ]
  },
  {
   "cell_type": "code",
   "execution_count": 9,
   "id": "6be812b6",
   "metadata": {},
   "outputs": [
    {
     "name": "stdout",
     "output_type": "stream",
     "text": [
      "[1, 2, 2, 3, 5, 6]\n"
     ]
    }
   ],
   "source": [
    "nums1 = [1,2,3,0,0,0]\n",
    "m = 3\n",
    "nums2 = [2,5,6]\n",
    "n = 3\n",
    "merge(nums1, m, nums2,n)\n",
    "print(nums1)"
   ]
  },
  {
   "cell_type": "markdown",
   "id": "6ed5dcdb",
   "metadata": {},
   "source": [
    "#### 1089. Duplicate Zeros"
   ]
  },
  {
   "cell_type": "code",
   "execution_count": 3,
   "id": "b962cc2a",
   "metadata": {},
   "outputs": [],
   "source": [
    "def duplicateZeros(arr):\n",
    "        i = 0\n",
    "        j = 1\n",
    "        length = len(arr)\n",
    "        while i < length:\n",
    "            num = arr[i]\n",
    "            if num == 0 and i+1<length:\n",
    "                arr[i+2:] = arr[i+1:-j]\n",
    "                arr[i+1] = 0\n",
    "                i += 1\n",
    "            i += 1"
   ]
  },
  {
   "cell_type": "code",
   "execution_count": 6,
   "id": "3a6a128e",
   "metadata": {},
   "outputs": [
    {
     "name": "stdout",
     "output_type": "stream",
     "text": [
      "[1, 0, 0, 2, 3, 0, 0, 4]\n"
     ]
    }
   ],
   "source": [
    "arr = [1,0,2,3,0,4,5,0]\n",
    "duplicateZeros(arr)\n",
    "print(arr)"
   ]
  },
  {
   "cell_type": "markdown",
   "id": "b5877554",
   "metadata": {},
   "source": [
    "#### 977. Squares of a Sorted Array"
   ]
  },
  {
   "cell_type": "code",
   "execution_count": 5,
   "id": "a52e19c5",
   "metadata": {},
   "outputs": [],
   "source": [
    "def sortedSquares(nums):\n",
    "    return sorted([num ** 2 for num in nums])"
   ]
  },
  {
   "cell_type": "code",
   "execution_count": 6,
   "id": "2d3e44ee",
   "metadata": {},
   "outputs": [
    {
     "data": {
      "text/plain": [
       "[0, 1, 9, 16, 100]"
      ]
     },
     "execution_count": 6,
     "metadata": {},
     "output_type": "execute_result"
    }
   ],
   "source": [
    "sortedSquares(nums = [-4,-1,0,3,10])"
   ]
  },
  {
   "cell_type": "markdown",
   "id": "0eb76f89",
   "metadata": {},
   "source": [
    "#### 1295. Find Numbers with Even Number of Digits"
   ]
  },
  {
   "cell_type": "code",
   "execution_count": 3,
   "id": "5f92fb18",
   "metadata": {},
   "outputs": [],
   "source": [
    "def findNumbers(nums):\n",
    "    rst = 0\n",
    "    for num in nums:\n",
    "        if len(str(num)) % 2 == 0:\n",
    "            rst += 1\n",
    "            \n",
    "    return rst"
   ]
  },
  {
   "cell_type": "code",
   "execution_count": 4,
   "id": "ea8f1d8e",
   "metadata": {},
   "outputs": [
    {
     "data": {
      "text/plain": [
       "2"
      ]
     },
     "execution_count": 4,
     "metadata": {},
     "output_type": "execute_result"
    }
   ],
   "source": [
    "findNumbers(nums = [12,345,2,6,7896])"
   ]
  },
  {
   "cell_type": "markdown",
   "id": "92b8ba67",
   "metadata": {},
   "source": [
    "#### 485. Max Consecutive Ones"
   ]
  },
  {
   "cell_type": "code",
   "execution_count": 1,
   "id": "b668c015",
   "metadata": {},
   "outputs": [],
   "source": [
    "def findMaxConsecutiveOnes(nums):\n",
    "    rst = 0\n",
    "    cnt = 0\n",
    "    for num in nums:\n",
    "        if num == 1:\n",
    "            cnt += 1\n",
    "        else:\n",
    "            rst = max(rst, cnt)\n",
    "            cnt = 0\n",
    "    rst = max(rst, cnt)\n",
    "    return rst"
   ]
  },
  {
   "cell_type": "code",
   "execution_count": 2,
   "id": "8ca4a53b",
   "metadata": {},
   "outputs": [
    {
     "data": {
      "text/plain": [
       "3"
      ]
     },
     "execution_count": 2,
     "metadata": {},
     "output_type": "execute_result"
    }
   ],
   "source": [
    "findMaxConsecutiveOnes(nums = [1,1,0,1,1,1])"
   ]
  },
  {
   "cell_type": "markdown",
   "id": "0fda2a7f",
   "metadata": {},
   "source": [
    "#### 1299. Replace Elements with Greatest Element on Right Side"
   ]
  },
  {
   "cell_type": "code",
   "execution_count": 1,
   "id": "4801eefe",
   "metadata": {},
   "outputs": [],
   "source": [
    "def replaceElements(arr):\n",
    "        length = len(arr)\n",
    "        rst = [-1] * length\n",
    "        i = length - 1\n",
    "        max_elem = -1\n",
    "        for elem in arr[::-1]:\n",
    "            rst[i] = max_elem\n",
    "            max_elem = max(elem, max_elem)\n",
    "            i -= 1\n",
    "            \n",
    "        return rst"
   ]
  },
  {
   "cell_type": "code",
   "execution_count": 2,
   "id": "94cf346d",
   "metadata": {},
   "outputs": [
    {
     "data": {
      "text/plain": [
       "[18, 6, 6, 6, 1, -1]"
      ]
     },
     "execution_count": 2,
     "metadata": {},
     "output_type": "execute_result"
    }
   ],
   "source": [
    "replaceElements(arr = [17,18,5,4,6,1])"
   ]
  },
  {
   "cell_type": "code",
   "execution_count": null,
   "id": "163782b6",
   "metadata": {},
   "outputs": [],
   "source": []
  }
 ],
 "metadata": {
  "kernelspec": {
   "display_name": "python3.8",
   "language": "python",
   "name": "python3.8"
  },
  "language_info": {
   "codemirror_mode": {
    "name": "ipython",
    "version": 3
   },
   "file_extension": ".py",
   "mimetype": "text/x-python",
   "name": "python",
   "nbconvert_exporter": "python",
   "pygments_lexer": "ipython3",
   "version": "3.8.16"
  }
 },
 "nbformat": 4,
 "nbformat_minor": 5
}
