{
 "cells": [
  {
   "cell_type": "markdown",
   "id": "60f8cda8",
   "metadata": {},
   "source": [
    "#### 724. Find Pivot Index"
   ]
  },
  {
   "cell_type": "code",
   "execution_count": 1,
   "id": "792903ef",
   "metadata": {},
   "outputs": [],
   "source": [
    "def pivotIndex(nums):\n",
    "    answer = -1\n",
    "    total = sum(nums)\n",
    "    left = 0\n",
    "    right = total\n",
    "    for i in range(len(nums)):\n",
    "        if i > 0:\n",
    "            left += nums[i-1]\n",
    "        right -= nums[i]\n",
    "        \n",
    "        if left == right:\n",
    "            answer = i\n",
    "            break\n",
    "            \n",
    "    return answer"
   ]
  },
  {
   "cell_type": "markdown",
   "id": "f67817d7",
   "metadata": {},
   "source": [
    "#### 1480. Running Sum of 1d Array"
   ]
  },
  {
   "cell_type": "code",
   "execution_count": 2,
   "id": "e0fa0145",
   "metadata": {},
   "outputs": [
    {
     "ename": "NameError",
     "evalue": "name 'List' is not defined",
     "output_type": "error",
     "traceback": [
      "\u001b[0;31m---------------------------------------------------------------------------\u001b[0m",
      "\u001b[0;31mNameError\u001b[0m                                 Traceback (most recent call last)",
      "Cell \u001b[0;32mIn[2], line 1\u001b[0m\n\u001b[0;32m----> 1\u001b[0m \u001b[38;5;28;01mdef\u001b[39;00m \u001b[38;5;21mrunningSum\u001b[39m(nums: \u001b[43mList\u001b[49m[\u001b[38;5;28mint\u001b[39m]) \u001b[38;5;241m-\u001b[39m\u001b[38;5;241m>\u001b[39m List[\u001b[38;5;28mint\u001b[39m]:\n\u001b[1;32m      2\u001b[0m     answer \u001b[38;5;241m=\u001b[39m []\n\u001b[1;32m      3\u001b[0m     total \u001b[38;5;241m=\u001b[39m \u001b[38;5;241m0\u001b[39m\n",
      "\u001b[0;31mNameError\u001b[0m: name 'List' is not defined"
     ]
    }
   ],
   "source": [
    "def runningSum(nums: List[int]) -> List[int]:\n",
    "    answer = []\n",
    "    total = 0\n",
    "    for num in nums:\n",
    "        total += num\n",
    "        answer.append(total)\n",
    "        \n",
    "    return answer"
   ]
  },
  {
   "cell_type": "code",
   "execution_count": 3,
   "id": "c2be9783",
   "metadata": {},
   "outputs": [
    {
     "ename": "SyntaxError",
     "evalue": "invalid syntax (1655433394.py, line 6)",
     "output_type": "error",
     "traceback": [
      "\u001b[0;36m  Cell \u001b[0;32mIn[3], line 6\u001b[0;36m\u001b[0m\n\u001b[0;31m    return nums\u001b[0m\n\u001b[0m    ^\u001b[0m\n\u001b[0;31mSyntaxError\u001b[0m\u001b[0;31m:\u001b[0m invalid syntax\n"
     ]
    }
   ],
   "source": [
    "def runningSum(nums: List[int]) -> List[int]:\n",
    "    i = 0\n",
    "    for i  in range(1, len(nums)):\n",
    "        nums[i] = nums[i-1\n",
    "        \n",
    "    return nums"
   ]
  },
  {
   "cell_type": "code",
   "execution_count": null,
   "id": "a76c367f",
   "metadata": {},
   "outputs": [],
   "source": []
  }
 ],
 "metadata": {
  "kernelspec": {
   "display_name": "python3.8",
   "language": "python",
   "name": "python3.8"
  },
  "language_info": {
   "codemirror_mode": {
    "name": "ipython",
    "version": 3
   },
   "file_extension": ".py",
   "mimetype": "text/x-python",
   "name": "python",
   "nbconvert_exporter": "python",
   "pygments_lexer": "ipython3",
   "version": "3.8.16"
  }
 },
 "nbformat": 4,
 "nbformat_minor": 5
}
