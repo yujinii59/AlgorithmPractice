{
 "cells": [
  {
   "cell_type": "code",
   "execution_count": 1,
   "id": "a34dc63a",
   "metadata": {},
   "outputs": [],
   "source": [
    "class ListNode:\n",
    "    def __init__(self, val=0, next=None):\n",
    "        self.val = val\n",
    "        self.next = next"
   ]
  },
  {
   "cell_type": "code",
   "execution_count": 1,
   "id": "1382f804",
   "metadata": {},
   "outputs": [],
   "source": [
    "class ChildNode:\n",
    "    def __init__(self, val, prev, next, child):\n",
    "        self.val = val\n",
    "        self.prev = prev\n",
    "        self.next = next\n",
    "        self.child = child"
   ]
  },
  {
   "cell_type": "code",
   "execution_count": 2,
   "id": "6103ec93",
   "metadata": {},
   "outputs": [],
   "source": [
    "class RandomNode:\n",
    "    def __init__(self, val, next = None, random = None):\n",
    "        self.val = int(val)\n",
    "        self.next = next\n",
    "        self.random = random"
   ]
  },
  {
   "cell_type": "markdown",
   "id": "fcccfc22",
   "metadata": {},
   "source": [
    "#### 61. Rotate List"
   ]
  },
  {
   "cell_type": "code",
   "execution_count": null,
   "id": "bf2dead1",
   "metadata": {},
   "outputs": [],
   "source": [
    "class Solution:\n",
    "    def rotateRight(self, head: Optional[ListNode], k: int) -> Optional[ListNode]:\n",
    "        if head:\n",
    "            i = 0\n",
    "            node_dict = dict()\n",
    "            while head:\n",
    "                node_dict[i] = head\n",
    "                head = head.next\n",
    "                i += 1\n",
    "\n",
    "            head = node_dict[0]\n",
    "            k %= i\n",
    "            for j in range(k):\n",
    "                node = node_dict[i-1-j]\n",
    "                node_dict[i-2-j].next = None\n",
    "                node.next = head\n",
    "                head = node\n",
    "            \n",
    "            return head\n",
    "        else:\n",
    "            return None"
   ]
  },
  {
   "cell_type": "markdown",
   "id": "9481c232",
   "metadata": {},
   "source": [
    "#### 138. Copy List with Random Pointer"
   ]
  },
  {
   "cell_type": "code",
   "execution_count": null,
   "id": "d6e24b25",
   "metadata": {},
   "outputs": [],
   "source": [
    "class Solution:\n",
    "    def copyLinkedList(self, node, node_dict):\n",
    "        curr = RandomNode(x=node.val)\n",
    "        if node.random:\n",
    "            ls = node_dict.get(node.random, [])\n",
    "            ls.append(curr)\n",
    "            node_dict[node.random] = ls\n",
    "        if node_dict.get(node, 0):\n",
    "            for n in node_dict[node]:\n",
    "                n.random = curr\n",
    "        if node.next:\n",
    "            curr.next = self.copyLinkedList(node=node.next, node_dict=node_dict)\n",
    "        if node_dict.get(node, 0):\n",
    "            for n in node_dict[node]:\n",
    "                n.random = curr\n",
    "        return curr\n",
    "\n",
    "    def copyRandomList(self, head: 'Optional[RandomNode]') -> 'Optional[RandomNode]':\n",
    "        if head:\n",
    "            return self.copyLinkedList(head, dict())\n",
    "        else:\n",
    "            return None"
   ]
  },
  {
   "cell_type": "markdown",
   "id": "34ccfca8",
   "metadata": {},
   "source": [
    "#### 430. Flatten a Multilevel Doubly Linked List"
   ]
  },
  {
   "cell_type": "code",
   "execution_count": null,
   "id": "defc887b",
   "metadata": {},
   "outputs": [],
   "source": [
    "class Solution:\n",
    "    def flatten(self, head: 'Optional[ChildNode]') -> 'Optional[ChildNode]':\n",
    "        flattenHead = None\n",
    "        if head:\n",
    "            flattenHead = ChildNode(val=head.val)\n",
    "            flattenNode = flattenHead\n",
    "            if head.child:\n",
    "                childNode = self.flatten(head.child)\n",
    "                childNode.prev = flattenNode\n",
    "                flattenNode.next = childNode\n",
    "                while flattenNode.next:\n",
    "                    flattenNode = flattenNode.next\n",
    "            \n",
    "            if head.next:\n",
    "                nextNode = self.flatten(head.next)\n",
    "                nextNode.prev = flattenNode\n",
    "                flattenNode.next = nextNode\n",
    "        \n",
    "        return flattenHead"
   ]
  },
  {
   "cell_type": "markdown",
   "id": "166df317",
   "metadata": {},
   "source": [
    "#### 203. Remove Linked List Elements"
   ]
  },
  {
   "cell_type": "code",
   "execution_count": null,
   "id": "ca9a69f5",
   "metadata": {},
   "outputs": [],
   "source": [
    "def removeElements(head, val):\n",
    "        head_node = None\n",
    "        node = None\n",
    "        while head:\n",
    "            if head.val != val:\n",
    "                if head_node:\n",
    "                    node.next = ListNode(val=head.val)\n",
    "                    node = node.next\n",
    "                else:\n",
    "                    head_node = ListNode(val=head.val)\n",
    "                    node = head_node\n",
    "            head = head.next\n",
    "        return head_node"
   ]
  },
  {
   "cell_type": "markdown",
   "id": "2bcca15e",
   "metadata": {},
   "source": [
    "#### 707. Design Linked List"
   ]
  },
  {
   "cell_type": "code",
   "execution_count": 8,
   "id": "351fae40",
   "metadata": {},
   "outputs": [],
   "source": [
    "class MyLinkedList:\n",
    "    val = 0\n",
    "    next = None\n",
    "    head = None\n",
    "    tail = None\n",
    "    cnt = 0\n",
    "\n",
    "    def __init__(self, val=0, next=None):\n",
    "        self.val = val\n",
    "        self.next = next\n",
    "\n",
    "    def get(self, index: int) -> int:\n",
    "        if self.cnt > index:\n",
    "            i=0\n",
    "            node = self.head\n",
    "            while i < index:\n",
    "                node = node.next\n",
    "                i += 1\n",
    "            return node.val\n",
    "        else:\n",
    "            return -1\n",
    "\n",
    "    def get_node(self, index:int):\n",
    "        if self.cnt > index:\n",
    "            i=0\n",
    "            node = self.head\n",
    "            while i < index:\n",
    "                node = node.next\n",
    "                i += 1\n",
    "            return node\n",
    "        else:\n",
    "            return None\n",
    "\n",
    "\n",
    "    def addAtHead(self, val: int) -> None:\n",
    "        if self.head:\n",
    "            node = MyLinkedList(val=val)\n",
    "            node.next = self.head\n",
    "            self.head = node\n",
    "        else:\n",
    "            self.head = MyLinkedList(val=val)\n",
    "            self.tail = self.head\n",
    "        self.cnt += 1\n",
    "\n",
    "    def addAtTail(self, val: int) -> None:\n",
    "        if self.head:\n",
    "            self.tail.next = MyLinkedList(val=val)\n",
    "            self.tail = self.tail.next\n",
    "            self.cnt += 1\n",
    "        else:\n",
    "            self.addAtHead(val=val)\n",
    "\n",
    "    def addAtIndex(self, index: int, val: int) -> None:\n",
    "        if index == 0:\n",
    "            self.addAtHead(val=val)\n",
    "        elif index == self.cnt:\n",
    "            self.addAtTail(val=val)\n",
    "        else:\n",
    "            target = self.get_node(index=index-1)\n",
    "            if target:\n",
    "                target.next = MyLinkedList(val=val, next=target.next)\n",
    "                self.cnt += 1\n",
    "\n",
    "\n",
    "    def deleteAtIndex(self, index: int) -> None:\n",
    "        if index < self.cnt:\n",
    "            if index == 0:\n",
    "                self.head = self.head.next\n",
    "                self.cnt -= 1\n",
    "            else:\n",
    "                target = self.get_node(index=index-1)\n",
    "                target.next = target.next.next\n",
    "                if index == self.cnt-1:\n",
    "                    self.tail = target\n",
    "                self.cnt -= 1\n",
    "        \n",
    "\n",
    "\n",
    "# Your MyLinkedList object will be instantiated and called as such:\n",
    "# obj = MyLinkedList()\n",
    "# param_1 = obj.get(index)\n",
    "# obj.addAtHead(val)\n",
    "# obj.addAtTail(val)\n",
    "# obj.addAtIndex(index,val)\n",
    "# obj.deleteAtIndex(index)"
   ]
  },
  {
   "cell_type": "code",
   "execution_count": 9,
   "id": "1bc9f98a",
   "metadata": {},
   "outputs": [
    {
     "name": "stdout",
     "output_type": "stream",
     "text": [
      "4\n"
     ]
    }
   ],
   "source": [
    "obj = MyLinkedList()\n",
    "obj.addAtHead(7)\n",
    "obj.addAtHead(2)\n",
    "obj.addAtHead(1)\n",
    "obj.addAtIndex(3, 0)\n",
    "obj.deleteAtIndex(2)\n",
    "obj.addAtHead(6)\n",
    "obj.addAtTail(4)\n",
    "print(obj.get(4))\n",
    "obj.addAtHead(4)\n",
    "obj.addAtIndex(5, 0)\n",
    "obj.addAtHead(6)\n"
   ]
  },
  {
   "cell_type": "markdown",
   "id": "a874d3ce",
   "metadata": {},
   "source": [
    "#### 160. Intersection of Two Linked Lists"
   ]
  },
  {
   "cell_type": "code",
   "execution_count": null,
   "id": "db7f1f63",
   "metadata": {},
   "outputs": [],
   "source": [
    "class Solution:\n",
    "    def getIntersectionNode(self, headA: ListNode, headB: ListNode) -> Optional[ListNode]:\n",
    "        node_set = set()\n",
    "        while (headA or headB):\n",
    "            if headA:\n",
    "                if headA in node_set:\n",
    "                    return headA\n",
    "                node_set.add(headA)\n",
    "                headA = headA.next\n",
    "            \n",
    "            if headB:\n",
    "                if headB in node_set:\n",
    "                    return headB\n",
    "                node_set.add(headB)\n",
    "                headB = headB.next\n",
    "        return None"
   ]
  },
  {
   "cell_type": "markdown",
   "id": "51e02a98",
   "metadata": {},
   "source": [
    "#### 141. Linked List Cycle"
   ]
  },
  {
   "cell_type": "code",
   "execution_count": null,
   "id": "5dc685a2",
   "metadata": {},
   "outputs": [],
   "source": [
    "class Solution:\n",
    "    def hasCycle(self, head: Optional[ListNode]) -> bool:\n",
    "        node_set = set()\n",
    "        while head:\n",
    "            if head in node_set:\n",
    "                return True\n",
    "            node_set.add(head)\n",
    "            head = head.next\n",
    "\n",
    "        return False"
   ]
  },
  {
   "cell_type": "markdown",
   "id": "7455fb8b",
   "metadata": {},
   "source": [
    "#### 24. Swap Nodes in Pairs"
   ]
  },
  {
   "cell_type": "code",
   "execution_count": null,
   "id": "c63d494a",
   "metadata": {},
   "outputs": [],
   "source": [
    "class Solution:\n",
    "    def swapPairs(self, head: Optional[ListNode]) -> Optional[ListNode]:\n",
    "        start = None\n",
    "        node = None\n",
    "        while head:\n",
    "            val = head.val\n",
    "            if head.next:\n",
    "                head = head.next\n",
    "                tmp_start = ListNode(val=head.val)\n",
    "                tmp_start.next = ListNode(val=val)\n",
    "        \n",
    "            else:\n",
    "                tmp_start = ListNode(val=val)\n",
    "\n",
    "            head = head.next\n",
    "            if start is None:\n",
    "                start = tmp_start\n",
    "            else:\n",
    "                node.next = tmp_start\n",
    "            if tmp_start.next:\n",
    "                node = tmp_start.next\n",
    "            else:\n",
    "                node = tmp_start\n",
    "        \n",
    "        return start"
   ]
  },
  {
   "cell_type": "markdown",
   "id": "6051e5dd",
   "metadata": {},
   "source": [
    "#### 19. Remove Nth Node From End of List"
   ]
  },
  {
   "cell_type": "code",
   "execution_count": null,
   "id": "54e8a480",
   "metadata": {},
   "outputs": [],
   "source": [
    "class Solution:\n",
    "    def removeNthFromEnd(self, head: Optional[ListNode], n: int) -> Optional[ListNode]:\n",
    "        start = head\n",
    "        seq = 0\n",
    "        seq_of_node = dict()\n",
    "        while head:\n",
    "            seq_of_node[seq] = head\n",
    "            head = head.next\n",
    "            seq += 1\n",
    "\n",
    "        if seq - n > 0:\n",
    "            if n > 1:\n",
    "                seq_of_node[seq-n-1].next = seq_of_node[seq-n+1]\n",
    "            else:\n",
    "                seq_of_node[seq-n-1].next = None\n",
    "        else:\n",
    "            if seq == 1:\n",
    "                start = None\n",
    "            else:\n",
    "                start = seq_of_node[1]\n",
    "\n",
    "        return start    "
   ]
  },
  {
   "cell_type": "markdown",
   "id": "2616ec90",
   "metadata": {},
   "source": [
    "#### 21. Merge Two Sorted Lists"
   ]
  },
  {
   "cell_type": "code",
   "execution_count": null,
   "id": "30fb9996",
   "metadata": {},
   "outputs": [],
   "source": [
    "class Solution:\n",
    "    def mergeTwoLists(self, list1: Optional[ListNode], list2: Optional[ListNode]) -> Optional[ListNode]:\n",
    "        \n",
    "        if list1.val <= list2.val:\n",
    "            start = ListNode(val=list1.val)\n",
    "            list1 = list1.next\n",
    "            curr = start\n",
    "        else:\n",
    "            start = ListNode(val=list2.val)\n",
    "            list2 = list2.next\n",
    "            curr = start\n",
    "            \n",
    "        while list1 is not None and list2 is not None:\n",
    "            if list1.val <= list2.val:\n",
    "                curr.next = ListNode(val=list1.val)\n",
    "                list1 = list1.next\n",
    "                curr = curr.next\n",
    "            else:\n",
    "                curr.next = ListNode(val=list2.val)\n",
    "                list2 = list2.next\n",
    "                curr = curr.next\n",
    "            \n",
    "        \n",
    "        if list1 is None:\n",
    "            while list2 is not None:\n",
    "                curr.next = ListNode(val=list2.val)\n",
    "                list2 = list2.next\n",
    "                curr = curr.next\n",
    "        elif list2 is None:\n",
    "            while list1 is not None:\n",
    "                curr.next = ListNode(val=list1.val)\n",
    "                list1 = list1.next\n",
    "                curr = curr.next\n",
    "                \n",
    "        return start"
   ]
  },
  {
   "cell_type": "markdown",
   "id": "25dd0270",
   "metadata": {},
   "source": [
    "#### 206. Reverse Linked List"
   ]
  },
  {
   "cell_type": "code",
   "execution_count": 7,
   "id": "b34d9586",
   "metadata": {},
   "outputs": [],
   "source": [
    "def reverseList(head: ListNode):\n",
    "    if head is None:\n",
    "        return None\n",
    "\n",
    "    curr = ListNode(val=head.val)\n",
    "    head = head.next\n",
    "    while head:\n",
    "        prev = curr\n",
    "        curr = ListNode(val=head.val)\n",
    "        head = head.next\n",
    "        curr.next = prev\n",
    "\n",
    "    return curr"
   ]
  },
  {
   "cell_type": "markdown",
   "id": "72ec63b5",
   "metadata": {},
   "source": [
    "#### 142. Linked List Cycle 2"
   ]
  },
  {
   "cell_type": "code",
   "execution_count": 4,
   "id": "be404098",
   "metadata": {},
   "outputs": [],
   "source": [
    "class Solution:\n",
    "    def detectCycle(self, head: Optional[ListNode]) -> Optional[ListNode]:\n",
    "        node_set = set()\n",
    "        while head:\n",
    "            if head in node_set:\n",
    "                return head\n",
    "            node_set.add(head)\n",
    "            head = head.next\n",
    "\n",
    "        return None"
   ]
  },
  {
   "cell_type": "markdown",
   "id": "c6110938",
   "metadata": {},
   "source": [
    "#### 148. Sort List"
   ]
  },
  {
   "cell_type": "code",
   "execution_count": null,
   "id": "53cc68ae",
   "metadata": {},
   "outputs": [],
   "source": [
    "class Solution:\n",
    "    def sortList(self, head: Optional[ListNode]) -> Optional[ListNode]:\n",
    "        values = {}\n",
    "        while head:\n",
    "            val = head.val\n",
    "            values[val] = values.get(val, 0) + 1\n",
    "            head = head.next\n",
    "\n",
    "        values = sorted(values.items())\n",
    "\n",
    "        start = None\n",
    "        node = None\n",
    "        for k, v in values:\n",
    "            for _ in range(v):\n",
    "                if start:\n",
    "                    node.next = ListNode(val=k)\n",
    "                    node = node.next\n",
    "                else:\n",
    "                    start = ListNode(val=k)\n",
    "                    node = start\n",
    "        return start\n"
   ]
  },
  {
   "cell_type": "markdown",
   "id": "a03355a1",
   "metadata": {},
   "source": [
    "#### 328. Odd Even Linked List"
   ]
  },
  {
   "cell_type": "code",
   "execution_count": null,
   "id": "33094846",
   "metadata": {},
   "outputs": [],
   "source": [
    "class Solution:\n",
    "    def oddEvenList(self, head: Optional[ListNode]) -> Optional[ListNode]:\n",
    "        odd = None\n",
    "        odd_head = None\n",
    "        even = None\n",
    "        even_head = None\n",
    "        i = 0\n",
    "        while head:\n",
    "            i += 1\n",
    "            if i % 2:\n",
    "                if odd:\n",
    "                    odd.next = ListNode(val=head.val)\n",
    "                    odd = odd.next\n",
    "                else:\n",
    "                    odd_head = ListNode(val=head.val)\n",
    "                    odd = odd_head\n",
    "            else:\n",
    "                if i == 2:\n",
    "                    even_head = ListNode(val=head.val)\n",
    "                    even = even_head\n",
    "                else:\n",
    "                    even.next = ListNode(val=head.val)\n",
    "                    even = even.next\n",
    "            head = head.next\n",
    "        \n",
    "\n",
    "        if odd and even:\n",
    "            odd.next = even_head\n",
    "\n",
    "        return odd_head"
   ]
  },
  {
   "cell_type": "markdown",
   "id": "b542990d",
   "metadata": {},
   "source": [
    "#### 876. Middle of the Linked List"
   ]
  },
  {
   "cell_type": "code",
   "execution_count": null,
   "id": "7eeae785",
   "metadata": {},
   "outputs": [],
   "source": [
    "def middleNode(head: ListNode) -> ListNode:\n",
    "    "
   ]
  }
 ],
 "metadata": {
  "kernelspec": {
   "display_name": "python3.8",
   "language": "python",
   "name": "python3.8"
  },
  "language_info": {
   "codemirror_mode": {
    "name": "ipython",
    "version": 3
   },
   "file_extension": ".py",
   "mimetype": "text/x-python",
   "name": "python",
   "nbconvert_exporter": "python",
   "pygments_lexer": "ipython3",
   "version": "3.8.16"
  }
 },
 "nbformat": 4,
 "nbformat_minor": 5
}
