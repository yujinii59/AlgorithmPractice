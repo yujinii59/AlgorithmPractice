{
 "cells": [
  {
   "cell_type": "markdown",
   "id": "fd1691f2",
   "metadata": {},
   "source": [
    "#### 344. Reverse String"
   ]
  },
  {
   "cell_type": "code",
   "execution_count": null,
   "id": "20db6d92",
   "metadata": {},
   "outputs": [],
   "source": [
    "def reverseString(self, s: List[str]) -> None:\n",
    "    \"\"\"\n",
    "    Do not return anything, modify s in-place instead.\n",
    "    \"\"\"\n",
    "    s.reverse()\n",
    "    return "
   ]
  },
  {
   "cell_type": "code",
   "execution_count": null,
   "id": "ac1adfa2",
   "metadata": {},
   "outputs": [],
   "source": [
    "reverseString(s = [\"h\",\"e\",\"l\",\"l\",\"o\"])"
   ]
  },
  {
   "cell_type": "markdown",
   "id": "33d7bbaa",
   "metadata": {},
   "source": [
    "#### 43. Multiply Strings"
   ]
  },
  {
   "cell_type": "code",
   "execution_count": null,
   "id": "e48f11d6",
   "metadata": {},
   "outputs": [],
   "source": [
    "def multiply(num1, num2):\n",
    "    return str(int(num1) * int(num2))"
   ]
  },
  {
   "cell_type": "code",
   "execution_count": null,
   "id": "be82f5b2",
   "metadata": {},
   "outputs": [],
   "source": [
    "multiply(num1 = \"123\", num2 = \"456\")"
   ]
  },
  {
   "cell_type": "markdown",
   "id": "77ac6604",
   "metadata": {},
   "source": [
    "#### 14. Longest Common Prefix"
   ]
  },
  {
   "cell_type": "code",
   "execution_count": null,
   "id": "76606345",
   "metadata": {},
   "outputs": [],
   "source": [
    "def longestCommonPrefix(strs):\n",
    "    rst = strs[0]\n",
    "    for s in strs[1:]:\n",
    "        length = min(len(rst), len(s))\n",
    "        tmp = ''\n",
    "        for i in range(length):\n",
    "            if rst[i] == s[i]:\n",
    "                tmp += s[i]\n",
    "            else:\n",
    "                break\n",
    "        \n",
    "        rst = tmp\n",
    "        if rst=='':\n",
    "            break\n",
    "    return rst"
   ]
  },
  {
   "cell_type": "code",
   "execution_count": null,
   "id": "beb8db57",
   "metadata": {},
   "outputs": [],
   "source": [
    "longestCommonPrefix(strs = [\"dog\",\"racecar\",\"car\"])"
   ]
  },
  {
   "cell_type": "markdown",
   "id": "e5a7f89b",
   "metadata": {},
   "source": [
    "#### 205. Isomorphic Strings"
   ]
  },
  {
   "cell_type": "code",
   "execution_count": null,
   "id": "9a7502d3",
   "metadata": {},
   "outputs": [],
   "source": [
    "def isIsomorphic(s: str, t: str) -> bool:\n",
    "    mapping_s = {}\n",
    "    mapping_t = {}\n",
    "    b = True\n",
    "    for i in range(len(s)):\n",
    "        ms = mapping_s.get(s[i], '')\n",
    "        mt = mapping_t.get(t[i], '')\n",
    "        if ms == '' and mt == '':\n",
    "            mapping_s[s[i]] = t[i]\n",
    "            mapping_t[t[i]] = s[i]\n",
    "        elif ms != '' and mt != '':\n",
    "            if ms != t[i] or mt != s[i]:\n",
    "                b = False\n",
    "                break\n",
    "        else:\n",
    "            b = False\n",
    "            break\n",
    "    return b"
   ]
  },
  {
   "cell_type": "code",
   "execution_count": null,
   "id": "69299252",
   "metadata": {},
   "outputs": [],
   "source": [
    "isIsomorphic(s = \"paper\", t = \"title\")"
   ]
  },
  {
   "cell_type": "markdown",
   "id": "e18736dd",
   "metadata": {},
   "source": [
    "#### 392. Is Subsequence"
   ]
  },
  {
   "cell_type": "code",
   "execution_count": null,
   "id": "2081bff5",
   "metadata": {},
   "outputs": [],
   "source": [
    "def isSubsequence(s: str, t: str) -> bool:\n",
    "    if s == '':\n",
    "        return True\n",
    "    i = 0\n",
    "    b = False\n",
    "    for alpha in t:\n",
    "        if alpha == s[i]:\n",
    "            i += 1\n",
    "        if i == len(s):\n",
    "            b = True\n",
    "            break\n",
    "    return b\n",
    "            "
   ]
  },
  {
   "cell_type": "code",
   "execution_count": null,
   "id": "0d976654",
   "metadata": {},
   "outputs": [],
   "source": [
    "isSubsequence(s = \"axc\", t = \"ahbgdc\")"
   ]
  },
  {
   "cell_type": "code",
   "execution_count": null,
   "id": "2e724256",
   "metadata": {},
   "outputs": [],
   "source": []
  }
 ],
 "metadata": {
  "kernelspec": {
   "display_name": "python3.8",
   "language": "python",
   "name": "python3.8"
  },
  "language_info": {
   "codemirror_mode": {
    "name": "ipython",
    "version": 3
   },
   "file_extension": ".py",
   "mimetype": "text/x-python",
   "name": "python",
   "nbconvert_exporter": "python",
   "pygments_lexer": "ipython3",
   "version": "3.8.16"
  }
 },
 "nbformat": 4,
 "nbformat_minor": 5
}
