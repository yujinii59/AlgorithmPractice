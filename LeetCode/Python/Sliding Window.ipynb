{
 "cells": [
  {
   "cell_type": "markdown",
   "id": "04e8f680",
   "metadata": {},
   "source": [
    "#### 438. Find All Anagrams in a String"
   ]
  },
  {
   "cell_type": "code",
   "execution_count": 1,
   "id": "16d3ae23",
   "metadata": {},
   "outputs": [],
   "source": [
    "from collections import Counter\n",
    "\n",
    "def findAnagrams(s, p):\n",
    "    p_len = len(p)\n",
    "    s_len = len(s)\n",
    "    if s_len < p_len:\n",
    "        return []\n",
    "    else:\n",
    "        s_count = Counter(s[:p_len])\n",
    "        p_count = Counter(p)\n",
    "        rst = []\n",
    "        if s_count == p_count:\n",
    "            rst.append(0)\n",
    "        for i in range(s_len-p_len):\n",
    "            if s_count[s[i]] == 1:\n",
    "                del s_count[s[i]]\n",
    "            else:\n",
    "                s_count[s[i]] -= 1\n",
    "            \n",
    "            cnt = s_count.get(s[i+p_len], 0)\n",
    "            s_count[s[i+p_len]] = cnt + 1\n",
    "            if s_count == p_count:\n",
    "                rst.append(i+1)\n",
    "        return rst\n",
    "                "
   ]
  },
  {
   "cell_type": "code",
   "execution_count": 3,
   "id": "bf390990",
   "metadata": {},
   "outputs": [
    {
     "data": {
      "text/plain": [
       "[0, 1, 2]"
      ]
     },
     "execution_count": 3,
     "metadata": {},
     "output_type": "execute_result"
    }
   ],
   "source": [
    "findAnagrams(s = \"abab\", p = \"ab\")"
   ]
  },
  {
   "cell_type": "markdown",
   "id": "97050179",
   "metadata": {},
   "source": [
    "#### 424. Longest Repeating Character Replacement"
   ]
  },
  {
   "cell_type": "code",
   "execution_count": 19,
   "id": "1bda1518",
   "metadata": {},
   "outputs": [],
   "source": [
    "from collections import Counter\n",
    "\n",
    "def characterReplacement(s, k):\n",
    "    maxlen, largestCount = 0, 0\n",
    "    arr = Counter()\n",
    "    for idx in range(len(s)):\n",
    "        arr[s[idx]] += 1\n",
    "        largestCount = max(largestCount, arr[s[idx]])\n",
    "        if maxlen - largestCount >= k:\n",
    "            arr[s[idx - maxlen]] -= 1\n",
    "        else:\n",
    "            maxlen += 1\n",
    "    return maxlen"
   ]
  },
  {
   "cell_type": "code",
   "execution_count": 20,
   "id": "74fad473",
   "metadata": {},
   "outputs": [
    {
     "data": {
      "text/plain": [
       "4"
      ]
     },
     "execution_count": 20,
     "metadata": {},
     "output_type": "execute_result"
    }
   ],
   "source": [
    "characterReplacement(s = \"ABBB\", k = 2)"
   ]
  },
  {
   "cell_type": "code",
   "execution_count": null,
   "id": "4b334585",
   "metadata": {},
   "outputs": [],
   "source": []
  }
 ],
 "metadata": {
  "kernelspec": {
   "display_name": "python3.8",
   "language": "python",
   "name": "python3.8"
  },
  "language_info": {
   "codemirror_mode": {
    "name": "ipython",
    "version": 3
   },
   "file_extension": ".py",
   "mimetype": "text/x-python",
   "name": "python",
   "nbconvert_exporter": "python",
   "pygments_lexer": "ipython3",
   "version": "3.8.16"
  }
 },
 "nbformat": 4,
 "nbformat_minor": 5
}
