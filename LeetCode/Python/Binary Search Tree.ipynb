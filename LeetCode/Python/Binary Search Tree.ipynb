{
 "cells": [
  {
   "cell_type": "markdown",
   "id": "a30c659e",
   "metadata": {},
   "source": [
    "#### 98. Validate Binary Search Tree"
   ]
  },
  {
   "cell_type": "code",
   "execution_count": null,
   "id": "2a39cc09",
   "metadata": {},
   "outputs": [],
   "source": [
    "# Definition for a binary tree node.\n",
    "# class TreeNode:\n",
    "#     def __init__(self, val=0, left=None, right=None):\n",
    "#         self.val = val\n",
    "#         self.left = left\n",
    "#         self.right = right\n",
    "class Solution:\n",
    "    MIN_NUM = -int(1e10)\n",
    "    MAX_NUM = int(1e10)\n",
    "    def isValLocate(self, node, min_num, max_num):\n",
    "        val = node.val\n",
    "        print(val)\n",
    "        if val <= min_num or val >= max_num:\n",
    "            return False\n",
    "        else:\n",
    "            bl, br = True, True\n",
    "            if node.left:\n",
    "                bl = self.isValLocate(node.left, min_num, val)\n",
    "            if node.right:\n",
    "                br = self.isValLocate(node.right, val, max_num)\n",
    "            \n",
    "            return bl and br\n",
    "\n",
    "\n",
    "    def isValidBST(self, root: Optional[TreeNode]) -> bool:\n",
    "        return self.isValLocate(root, self.MIN_NUM, self.MAX_NUM)\n"
   ]
  },
  {
   "cell_type": "markdown",
   "id": "3043f00a",
   "metadata": {},
   "source": [
    "#### 95. Unique Binary Search Trees II"
   ]
  },
  {
   "cell_type": "code",
   "execution_count": 1,
   "id": "32e2d20d",
   "metadata": {},
   "outputs": [
    {
     "data": {
      "text/plain": [
       "{1, 3}"
      ]
     },
     "execution_count": 1,
     "metadata": {},
     "output_type": "execute_result"
    }
   ],
   "source": [
    "# Definition for a binary tree node.\n",
    "class TreeNode:\n",
    "    def __init__(self, val=0, left=None, right=None):\n",
    "        self.val = val\n",
    "        self.left = left\n",
    "        self.right = right\n",
    "class Solution:\n",
    "    def generateTree(self, min_num, max_num, res):\n",
    "        nodes = []\n",
    "        for i in res:\n",
    "            left_nodes, right_nodes = [None], [None]\n",
    "            left_nodes = self.generateTree(min_num, i, res & set(range(min_num, i)))\n",
    "            right_nodes = self.generateTree(i + 1, max_num, res & set(range(i + 1, max_num)))\n",
    "\n",
    "            if left_nodes and right_nodes:\n",
    "                for left in left_nodes:\n",
    "                    for right in right_nodes:\n",
    "                        node = TreeNode(val=i)\n",
    "                        node.left = left\n",
    "                        node.right = right\n",
    "                        nodes.append(node)\n",
    "            elif left_nodes:\n",
    "                for left in left_nodes:\n",
    "                    node = TreeNode(val=i)\n",
    "                    node.left = left\n",
    "                    nodes.append(node)\n",
    "            elif right_nodes:\n",
    "                for right in right_nodes:\n",
    "                    node = TreeNode(val=i)\n",
    "                    node.right = right\n",
    "                    nodes.append(node)\n",
    "            else:\n",
    "                nodes.append(TreeNode(val=i))\n",
    "\n",
    "        return nodes\n",
    "\n",
    "\n",
    "    def generateTrees(self, n: int) -> List[Optional[TreeNode]]:\n",
    "        nodes = self.generateTree(1, n+1, set(range(1, n+1)))\n",
    "        return nodes"
   ]
  }
 ],
 "metadata": {
  "kernelspec": {
   "display_name": "python3.8",
   "language": "python",
   "name": "python3.8"
  },
  "language_info": {
   "codemirror_mode": {
    "name": "ipython",
    "version": 3
   },
   "file_extension": ".py",
   "mimetype": "text/x-python",
   "name": "python",
   "nbconvert_exporter": "python",
   "pygments_lexer": "ipython3",
   "version": "3.8.16"
  }
 },
 "nbformat": 4,
 "nbformat_minor": 5
}
