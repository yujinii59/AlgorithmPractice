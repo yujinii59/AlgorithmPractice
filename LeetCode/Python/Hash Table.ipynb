{
 "cells": [
  {
   "cell_type": "markdown",
   "id": "4738b14a",
   "metadata": {},
   "source": [
    "#### 706. Design HashMap"
   ]
  },
  {
   "cell_type": "code",
   "execution_count": null,
   "id": "4379c4b4",
   "metadata": {},
   "outputs": [],
   "source": [
    "class MyHashMap:\n",
    "\n",
    "    def __init__(self):\n",
    "        self.hash_map = dict()\n",
    "        \n",
    "\n",
    "    def put(self, key: int, value: int) -> None:\n",
    "        self.hash_map[key] = value\n",
    "        \n",
    "\n",
    "    def get(self, key: int) -> int:\n",
    "        return self.hash_map.get(key, -1)\n",
    "        \n",
    "\n",
    "    def remove(self, key: int) -> None:\n",
    "        if self.get(key=key) != -1:\n",
    "            del self.hash_map[key]"
   ]
  },
  {
   "cell_type": "markdown",
   "id": "1e4c2b9d",
   "metadata": {},
   "source": [
    "#### 705. Design HashSet"
   ]
  },
  {
   "cell_type": "code",
   "execution_count": null,
   "id": "4130452b",
   "metadata": {},
   "outputs": [],
   "source": [
    "class MyHashSet:\n",
    "\n",
    "    def __init__(self):\n",
    "        self.hash_set = set()\n",
    "        \n",
    "\n",
    "    def add(self, key: int) -> None:\n",
    "        self.hash_set.add(key)\n",
    "        \n",
    "\n",
    "    def remove(self, key: int) -> None:\n",
    "        self.hash_set.discard(key)\n",
    "        \n",
    "\n",
    "    def contains(self, key: int) -> bool:\n",
    "        return key in self.hash_set"
   ]
  }
 ],
 "metadata": {
  "kernelspec": {
   "display_name": "python3.8",
   "language": "python",
   "name": "python3.8"
  },
  "language_info": {
   "codemirror_mode": {
    "name": "ipython",
    "version": 3
   },
   "file_extension": ".py",
   "mimetype": "text/x-python",
   "name": "python",
   "nbconvert_exporter": "python",
   "pygments_lexer": "ipython3",
   "version": "3.8.16"
  }
 },
 "nbformat": 4,
 "nbformat_minor": 5
}
