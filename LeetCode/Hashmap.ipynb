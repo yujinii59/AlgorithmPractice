{
 "cells": [
  {
   "cell_type": "markdown",
   "id": "ea309a25",
   "metadata": {},
   "source": [
    "#### 1. Two Sum\n"
   ]
  },
  {
   "cell_type": "code",
   "execution_count": 1,
   "id": "35b027ad",
   "metadata": {},
   "outputs": [],
   "source": [
    "from itertools import combinations\n",
    "\n",
    "def twoSum(nums, target):\n",
    "    cases = combinations(len(nums), 2)\n",
    "    for case in cases:\n",
    "        if nums[case[0]] + nums[case[1]] == target:\n",
    "            return [case[0], case[1]]"
   ]
  },
  {
   "cell_type": "code",
   "execution_count": null,
   "id": "3a60d145",
   "metadata": {},
   "outputs": [],
   "source": [
    "def twoSum(nums, target):\n",
    "        for i in range(len(nums)):\n",
    "            for j in range(i+1, len(nums)):\n",
    "                if nums[i] + nums[j] == target:\n",
    "                    return [i, j]"
   ]
  },
  {
   "cell_type": "markdown",
   "id": "78782824",
   "metadata": {},
   "source": [
    "#### 299. Bulls and Cows"
   ]
  },
  {
   "cell_type": "code",
   "execution_count": 4,
   "id": "24b7cbaa",
   "metadata": {},
   "outputs": [],
   "source": [
    "from collections import Counter\n",
    "\n",
    "def getHint(secret, guess):\n",
    "    rst = [0,0]\n",
    "    secret_nums  = Counter(secret)\n",
    "    for i, num in enumerate(guess):\n",
    "        if secret[i] == num:\n",
    "            rst[0] += 1\n",
    "            if secret_nums[num] <= 0:\n",
    "                rst[1] -= 1\n",
    "            else:\n",
    "                secret_nums[num] -= 1\n",
    "        elif secret_nums.get(num, 0):\n",
    "            rst[1] += 1\n",
    "            secret_nums[num] -= 1\n",
    "            \n",
    "    return f'{rst[0]}A{rst[1]}B'"
   ]
  },
  {
   "cell_type": "code",
   "execution_count": 6,
   "id": "70313d0f",
   "metadata": {},
   "outputs": [
    {
     "data": {
      "text/plain": [
       "'1A2B'"
      ]
     },
     "execution_count": 6,
     "metadata": {},
     "output_type": "execute_result"
    }
   ],
   "source": [
    "getHint(secret = \"1123\", guess = \"0111\")"
   ]
  },
  {
   "cell_type": "code",
   "execution_count": null,
   "id": "87296023",
   "metadata": {},
   "outputs": [],
   "source": []
  }
 ],
 "metadata": {
  "kernelspec": {
   "display_name": "python3.8",
   "language": "python",
   "name": "python3.8"
  },
  "language_info": {
   "codemirror_mode": {
    "name": "ipython",
    "version": 3
   },
   "file_extension": ".py",
   "mimetype": "text/x-python",
   "name": "python",
   "nbconvert_exporter": "python",
   "pygments_lexer": "ipython3",
   "version": "3.8.16"
  }
 },
 "nbformat": 4,
 "nbformat_minor": 5
}
