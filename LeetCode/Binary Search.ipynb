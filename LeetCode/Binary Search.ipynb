{
 "cells": [
  {
   "cell_type": "markdown",
   "id": "f597abb7",
   "metadata": {},
   "source": [
    "#### 278. First Bad Version"
   ]
  },
  {
   "cell_type": "code",
   "execution_count": null,
   "id": "8f79afaf",
   "metadata": {},
   "outputs": [],
   "source": [
    "def firstBadVersion(n):\n",
    "    left = 1\n",
    "    right = n\n",
    "    while left <= right:\n",
    "        if left == right:\n",
    "            return left\n",
    "        half = (left+right) // 2\n",
    "        if isBadVersion(half):\n",
    "            right = half\n",
    "        else:\n",
    "            left = half+1\n",
    "        \n",
    "    return left"
   ]
  },
  {
   "cell_type": "markdown",
   "id": "f326ab17",
   "metadata": {},
   "source": [
    "#### 704. Binary Search"
   ]
  },
  {
   "cell_type": "code",
   "execution_count": null,
   "id": "755a465f",
   "metadata": {},
   "outputs": [],
   "source": [
    "def bst(target, nums, start, end):\n",
    "    if start >= end:\n",
    "        return -1\n",
    "    \n",
    "    half = (start + end) // 2\n",
    "    if nums[half] < target:\n",
    "        loc = bst(target, nums, half+1, end)\n",
    "    elif nums[half] > target:\n",
    "        loc = bst(target, nums, start, half)\n",
    "    else:\n",
    "        loc = half\n",
    "        \n",
    "    return loc\n",
    "\n",
    "def search(nums, target):\n",
    "    loc = bst(target, nums, 0, len(nums))\n",
    "    return loc\n",
    "    "
   ]
  },
  {
   "cell_type": "markdown",
   "id": "37181b5a",
   "metadata": {},
   "source": [
    "#### 88. Merge Sorted Array"
   ]
  },
  {
   "cell_type": "code",
   "execution_count": 3,
   "id": "eee9fcff",
   "metadata": {},
   "outputs": [],
   "source": [
    "class Solution:\n",
    "    def bst(self, elem, main, start, end):\n",
    "        if start >= end:\n",
    "            if len(main) == start:\n",
    "                main.append(elem)\n",
    "            else:\n",
    "                main = main[:start] + [elem] + main[start:]\n",
    "        else:\n",
    "            half = (start + end) // 2\n",
    "            if main[half] < elem:\n",
    "                main = self.bst(elem, main, half + 1, end)\n",
    "            elif main[half] > elem:\n",
    "                main = self.bst(elem, main, start, half)\n",
    "            else:\n",
    "                main = main[:half] + [elem] + main[half:]\n",
    "        return main\n",
    "\n",
    "    def merge(self, nums1: List[int], m: int, nums2: List[int], n: int) -> None:\n",
    "        \"\"\"\n",
    "        Do not return anything, modify nums1 in-place instead.\n",
    "        \"\"\"\n",
    "        if m >= n:\n",
    "            main = nums1[:m]\n",
    "            sub = nums2[:n]\n",
    "            length = m\n",
    "        else:\n",
    "            main = nums2[:n]\n",
    "            sub = nums1[:m]\n",
    "            length = n\n",
    "\n",
    "        for i, elem in enumerate(sub):\n",
    "            main = self.bst(elem, main, 0, length + i)\n",
    "\n",
    "        for i in range(m+n):\n",
    "            nums1[i] = main[i]"
   ]
  },
  {
   "cell_type": "code",
   "execution_count": 4,
   "id": "bb557d78",
   "metadata": {},
   "outputs": [
    {
     "ename": "TypeError",
     "evalue": "'NoneType' object is not subscriptable",
     "output_type": "error",
     "traceback": [
      "\u001b[0;31m---------------------------------------------------------------------------\u001b[0m",
      "\u001b[0;31mTypeError\u001b[0m                                 Traceback (most recent call last)",
      "Cell \u001b[0;32mIn[4], line 1\u001b[0m\n\u001b[0;32m----> 1\u001b[0m \u001b[43mmerge\u001b[49m\u001b[43m(\u001b[49m\u001b[43mnums1\u001b[49m\u001b[43m \u001b[49m\u001b[38;5;241;43m=\u001b[39;49m\u001b[43m \u001b[49m\u001b[43m[\u001b[49m\u001b[38;5;241;43m1\u001b[39;49m\u001b[43m,\u001b[49m\u001b[38;5;241;43m2\u001b[39;49m\u001b[43m,\u001b[49m\u001b[38;5;241;43m3\u001b[39;49m\u001b[43m,\u001b[49m\u001b[38;5;241;43m0\u001b[39;49m\u001b[43m,\u001b[49m\u001b[38;5;241;43m0\u001b[39;49m\u001b[43m,\u001b[49m\u001b[38;5;241;43m0\u001b[39;49m\u001b[43m]\u001b[49m\u001b[43m,\u001b[49m\u001b[43m \u001b[49m\u001b[43mm\u001b[49m\u001b[43m \u001b[49m\u001b[38;5;241;43m=\u001b[39;49m\u001b[43m \u001b[49m\u001b[38;5;241;43m3\u001b[39;49m\u001b[43m,\u001b[49m\u001b[43m \u001b[49m\u001b[43mnums2\u001b[49m\u001b[43m \u001b[49m\u001b[38;5;241;43m=\u001b[39;49m\u001b[43m \u001b[49m\u001b[43m[\u001b[49m\u001b[38;5;241;43m2\u001b[39;49m\u001b[43m,\u001b[49m\u001b[38;5;241;43m5\u001b[39;49m\u001b[43m,\u001b[49m\u001b[38;5;241;43m6\u001b[39;49m\u001b[43m]\u001b[49m\u001b[43m,\u001b[49m\u001b[43m \u001b[49m\u001b[43mn\u001b[49m\u001b[43m \u001b[49m\u001b[38;5;241;43m=\u001b[39;49m\u001b[43m \u001b[49m\u001b[38;5;241;43m3\u001b[39;49m\u001b[43m)\u001b[49m\n",
      "Cell \u001b[0;32mIn[3], line 23\u001b[0m, in \u001b[0;36mmerge\u001b[0;34m(nums1, m, nums2, n)\u001b[0m\n\u001b[1;32m     20\u001b[0m     sub \u001b[38;5;241m=\u001b[39m nums1[:m]\n\u001b[1;32m     22\u001b[0m \u001b[38;5;28;01mfor\u001b[39;00m i, elem \u001b[38;5;129;01min\u001b[39;00m \u001b[38;5;28menumerate\u001b[39m(sub):\n\u001b[0;32m---> 23\u001b[0m     main \u001b[38;5;241m=\u001b[39m \u001b[43mbst\u001b[49m\u001b[43m(\u001b[49m\u001b[43melem\u001b[49m\u001b[43m,\u001b[49m\u001b[43m \u001b[49m\u001b[43mmain\u001b[49m\u001b[43m,\u001b[49m\u001b[43m \u001b[49m\u001b[38;5;241;43m0\u001b[39;49m\u001b[43m,\u001b[49m\u001b[43m \u001b[49m\u001b[43mm\u001b[49m\u001b[38;5;241;43m+\u001b[39;49m\u001b[43mi\u001b[49m\u001b[43m)\u001b[49m\n\u001b[1;32m     25\u001b[0m nums1 \u001b[38;5;241m=\u001b[39m main\n\u001b[1;32m     26\u001b[0m \u001b[38;5;28;01mreturn\u001b[39;00m nums1\n",
      "Cell \u001b[0;32mIn[3], line 6\u001b[0m, in \u001b[0;36mbst\u001b[0;34m(elem, main, start, end)\u001b[0m\n\u001b[1;32m      4\u001b[0m \u001b[38;5;28;01melse\u001b[39;00m:\n\u001b[1;32m      5\u001b[0m     half \u001b[38;5;241m=\u001b[39m (start \u001b[38;5;241m+\u001b[39m end) \u001b[38;5;241m/\u001b[39m\u001b[38;5;241m/\u001b[39m \u001b[38;5;241m2\u001b[39m\n\u001b[0;32m----> 6\u001b[0m     \u001b[38;5;28;01mif\u001b[39;00m \u001b[43mmain\u001b[49m\u001b[43m[\u001b[49m\u001b[43mhalf\u001b[49m\u001b[43m]\u001b[49m \u001b[38;5;241m<\u001b[39m elem:\n\u001b[1;32m      7\u001b[0m         main \u001b[38;5;241m=\u001b[39m bst(elem, main, half\u001b[38;5;241m+\u001b[39m\u001b[38;5;241m1\u001b[39m, end)\n\u001b[1;32m      8\u001b[0m     \u001b[38;5;28;01melif\u001b[39;00m main[half] \u001b[38;5;241m>\u001b[39m elem:\n",
      "\u001b[0;31mTypeError\u001b[0m: 'NoneType' object is not subscriptable"
     ]
    }
   ],
   "source": [
    "merge(nums1 = [1,2,3,0,0,0], m = 3, nums2 = [2,5,6], n = 3)"
   ]
  },
  {
   "cell_type": "code",
   "execution_count": 5,
   "id": "58dd5648",
   "metadata": {},
   "outputs": [
    {
     "name": "stdout",
     "output_type": "stream",
     "text": [
      "10.005836009979248\n"
     ]
    }
   ],
   "source": [
    "import time\n",
    "start = time.time()\n",
    "time.sleep(10)\n",
    "print(time.time()-start)"
   ]
  },
  {
   "cell_type": "code",
   "execution_count": 7,
   "id": "820e7442",
   "metadata": {},
   "outputs": [
    {
     "data": {
      "text/plain": [
       "'1675225908'"
      ]
     },
     "execution_count": 7,
     "metadata": {},
     "output_type": "execute_result"
    }
   ],
   "source": [
    "str(int(start))"
   ]
  },
  {
   "cell_type": "code",
   "execution_count": null,
   "id": "0693e469",
   "metadata": {},
   "outputs": [],
   "source": []
  }
 ],
 "metadata": {
  "kernelspec": {
   "display_name": "python3.8",
   "language": "python",
   "name": "python3.8"
  },
  "language_info": {
   "codemirror_mode": {
    "name": "ipython",
    "version": 3
   },
   "file_extension": ".py",
   "mimetype": "text/x-python",
   "name": "python",
   "nbconvert_exporter": "python",
   "pygments_lexer": "ipython3",
   "version": "3.8.16"
  }
 },
 "nbformat": 4,
 "nbformat_minor": 5
}
