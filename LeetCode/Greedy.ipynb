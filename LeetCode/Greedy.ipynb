{
 "cells": [
  {
   "cell_type": "markdown",
   "id": "59d4fb19",
   "metadata": {},
   "source": [
    "#### 121. Best Time to Buy and Sell Stock"
   ]
  },
  {
   "cell_type": "code",
   "execution_count": null,
   "id": "be0f7c0a",
   "metadata": {},
   "outputs": [],
   "source": [
    "def maxProfit(prices: List[int]) -> int:\n",
    "    answer = 0\n",
    "    min_val = prices[0]\n",
    "    for p in prices:\n",
    "        if p < min_val:\n",
    "            min_val = p\n",
    "        else:\n",
    "            answer = max(answer, p-min_val)\n",
    "            \n",
    "    return answer"
   ]
  },
  {
   "cell_type": "markdown",
   "id": "0ffbcc07",
   "metadata": {},
   "source": [
    "#### 409. Longest Palindrome"
   ]
  },
  {
   "cell_type": "code",
   "execution_count": null,
   "id": "c2bbfaa6",
   "metadata": {},
   "outputs": [],
   "source": [
    "from collections import Counter\n",
    "\n",
    "def longestPalindrome(s: str) -> int:\n",
    "    counter = Counter(s)\n",
    "    odd = False\n",
    "    cnt = 0\n",
    "    for count in counter.values():\n",
    "        if count % 2:\n",
    "            odd = True\n",
    "            cnt += count-1\n",
    "        else:\n",
    "            cnt += count\n",
    "        \n",
    "    if odd:\n",
    "        cnt += 1\n",
    "        \n",
    "    return cnt"
   ]
  }
 ],
 "metadata": {
  "kernelspec": {
   "display_name": "python3.8",
   "language": "python",
   "name": "python3.8"
  },
  "language_info": {
   "codemirror_mode": {
    "name": "ipython",
    "version": 3
   },
   "file_extension": ".py",
   "mimetype": "text/x-python",
   "name": "python",
   "nbconvert_exporter": "python",
   "pygments_lexer": "ipython3",
   "version": "3.8.16"
  }
 },
 "nbformat": 4,
 "nbformat_minor": 5
}
