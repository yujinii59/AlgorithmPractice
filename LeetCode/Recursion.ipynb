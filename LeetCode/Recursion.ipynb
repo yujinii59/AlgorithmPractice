{
 "cells": [
  {
   "cell_type": "markdown",
   "id": "de31a9af",
   "metadata": {},
   "source": [
    "#### 779. K-th Symbol in Grammar"
   ]
  },
  {
   "cell_type": "code",
   "execution_count": 9,
   "id": "c4f1a508",
   "metadata": {},
   "outputs": [],
   "source": [
    "from math import ceil\n",
    "\n",
    "class Solution:\n",
    "    def recur(self, k):\n",
    "        if k == 1:\n",
    "            return 0\n",
    "        elif k == 2:\n",
    "            return 1\n",
    "        else:\n",
    "            return (self.recur(ceil(k/2)) + k%2+1) % 2\n",
    "\n",
    "    def kthGrammar(self, n: int, k: int) -> int:\n",
    "        return self.recur(k)"
   ]
  }
 ],
 "metadata": {
  "kernelspec": {
   "display_name": "Python 3 (ipykernel)",
   "language": "python",
   "name": "python3"
  },
  "language_info": {
   "codemirror_mode": {
    "name": "ipython",
    "version": 3
   },
   "file_extension": ".py",
   "mimetype": "text/x-python",
   "name": "python",
   "nbconvert_exporter": "python",
   "pygments_lexer": "ipython3",
   "version": "3.8.16"
  }
 },
 "nbformat": 4,
 "nbformat_minor": 5
}
