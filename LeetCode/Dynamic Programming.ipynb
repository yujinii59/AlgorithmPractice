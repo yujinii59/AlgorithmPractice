{
 "cells": [
  {
   "cell_type": "markdown",
   "id": "03b2df7e",
   "metadata": {},
   "source": [
    "#### 119. Pascal's Triangle II"
   ]
  },
  {
   "cell_type": "code",
   "execution_count": 5,
   "id": "e645cb85",
   "metadata": {},
   "outputs": [],
   "source": [
    "def getRow(rowIndex):\n",
    "    rst = [0,1,0]\n",
    "    for i in range(rowIndex):\n",
    "        tmp = [0]*(i+4)\n",
    "        for j in range(i+2):\n",
    "            tmp[j+1] = rst[j] + rst[j+1]\n",
    "            \n",
    "        rst = tmp\n",
    "    return rst[1:-1]\n",
    "    "
   ]
  },
  {
   "cell_type": "code",
   "execution_count": 7,
   "id": "6310a80b",
   "metadata": {},
   "outputs": [
    {
     "name": "stdout",
     "output_type": "stream",
     "text": [
      "[0, 1, 1, 0]\n",
      "[0, 1, 2, 1, 0]\n",
      "[0, 1, 3, 3, 1, 0]\n",
      "[0, 1, 4, 6, 4, 1, 0]\n",
      "[0, 1, 5, 10, 10, 5, 1, 0]\n",
      "[0, 1, 6, 15, 20, 15, 6, 1, 0]\n",
      "[0, 1, 7, 21, 35, 35, 21, 7, 1, 0]\n",
      "[0, 1, 8, 28, 56, 70, 56, 28, 8, 1, 0]\n",
      "[0, 1, 9, 36, 84, 126, 126, 84, 36, 9, 1, 0]\n",
      "[0, 1, 10, 45, 120, 210, 252, 210, 120, 45, 10, 1, 0]\n",
      "[0, 1, 11, 55, 165, 330, 462, 462, 330, 165, 55, 11, 1, 0]\n",
      "[0, 1, 12, 66, 220, 495, 792, 924, 792, 495, 220, 66, 12, 1, 0]\n",
      "[0, 1, 13, 78, 286, 715, 1287, 1716, 1716, 1287, 715, 286, 78, 13, 1, 0]\n",
      "[0, 1, 14, 91, 364, 1001, 2002, 3003, 3432, 3003, 2002, 1001, 364, 91, 14, 1, 0]\n",
      "[0, 1, 15, 105, 455, 1365, 3003, 5005, 6435, 6435, 5005, 3003, 1365, 455, 105, 15, 1, 0]\n",
      "[0, 1, 16, 120, 560, 1820, 4368, 8008, 11440, 12870, 11440, 8008, 4368, 1820, 560, 120, 16, 1, 0]\n",
      "[0, 1, 17, 136, 680, 2380, 6188, 12376, 19448, 24310, 24310, 19448, 12376, 6188, 2380, 680, 136, 17, 1, 0]\n",
      "[0, 1, 18, 153, 816, 3060, 8568, 18564, 31824, 43758, 48620, 43758, 31824, 18564, 8568, 3060, 816, 153, 18, 1, 0]\n",
      "[0, 1, 19, 171, 969, 3876, 11628, 27132, 50388, 75582, 92378, 92378, 75582, 50388, 27132, 11628, 3876, 969, 171, 19, 1, 0]\n",
      "[0, 1, 20, 190, 1140, 4845, 15504, 38760, 77520, 125970, 167960, 184756, 167960, 125970, 77520, 38760, 15504, 4845, 1140, 190, 20, 1, 0]\n"
     ]
    },
    {
     "data": {
      "text/plain": [
       "[1,\n",
       " 20,\n",
       " 190,\n",
       " 1140,\n",
       " 4845,\n",
       " 15504,\n",
       " 38760,\n",
       " 77520,\n",
       " 125970,\n",
       " 167960,\n",
       " 184756,\n",
       " 167960,\n",
       " 125970,\n",
       " 77520,\n",
       " 38760,\n",
       " 15504,\n",
       " 4845,\n",
       " 1140,\n",
       " 190,\n",
       " 20,\n",
       " 1]"
      ]
     },
     "execution_count": 7,
     "metadata": {},
     "output_type": "execute_result"
    }
   ],
   "source": [
    "getRow(20)"
   ]
  },
  {
   "cell_type": "markdown",
   "id": "2a316064",
   "metadata": {},
   "source": [
    "#### 509. Fibonacci Number"
   ]
  },
  {
   "cell_type": "code",
   "execution_count": 1,
   "id": "6236ad61",
   "metadata": {},
   "outputs": [],
   "source": [
    "def fib(n):\n",
    "    dp = [0,1]\n",
    "    for i in range(2, n+1):\n",
    "        dp.append(dp[i-2] + dp[i-1])\n",
    "    return dp[n]"
   ]
  },
  {
   "cell_type": "code",
   "execution_count": 4,
   "id": "068fa1a1",
   "metadata": {},
   "outputs": [
    {
     "data": {
      "text/plain": [
       "3"
      ]
     },
     "execution_count": 4,
     "metadata": {},
     "output_type": "execute_result"
    }
   ],
   "source": [
    "fib(4)"
   ]
  },
  {
   "cell_type": "markdown",
   "id": "b0d98d1f",
   "metadata": {},
   "source": [
    "#### 70. Climbing Stairs"
   ]
  },
  {
   "cell_type": "code",
   "execution_count": null,
   "id": "0541369b",
   "metadata": {},
   "outputs": [],
   "source": [
    "def climbStairs(n: int) -> int:\n",
    "    dp = [1,1]\n",
    "    for i in range(2, n+1):\n",
    "        dp.append(dp[i-2]+dp[i-1])\n",
    "    return dp[n]"
   ]
  },
  {
   "cell_type": "markdown",
   "id": "0f3d687a",
   "metadata": {},
   "source": [
    "#### 746. Min Cost Climbing Stairs"
   ]
  },
  {
   "cell_type": "code",
   "execution_count": 5,
   "id": "9820639f",
   "metadata": {},
   "outputs": [],
   "source": [
    "def minCostClimbingStairs(cost):\n",
    "    for i in range(2, len(cost)):\n",
    "        cost[i] += min(cost[i-2],cost[i-1])\n",
    "        \n",
    "    return min(cost[-1], cost[-2])"
   ]
  },
  {
   "cell_type": "code",
   "execution_count": 7,
   "id": "70542fe2",
   "metadata": {},
   "outputs": [
    {
     "data": {
      "text/plain": [
       "6"
      ]
     },
     "execution_count": 7,
     "metadata": {},
     "output_type": "execute_result"
    }
   ],
   "source": [
    "minCostClimbingStairs(cost = [1,100,1,1,1,100,1,1,100,1])"
   ]
  },
  {
   "cell_type": "markdown",
   "id": "c4ce91b0",
   "metadata": {},
   "source": [
    "#### 62. Unique Paths"
   ]
  },
  {
   "cell_type": "code",
   "execution_count": 10,
   "id": "c7fcdf27",
   "metadata": {},
   "outputs": [],
   "source": [
    "def uniquePaths(m, n):\n",
    "    cases = [[0]*n for _ in range(m)]\n",
    "    cases[0][0] = 1\n",
    "    for i in range(m):\n",
    "        for j in range(n):\n",
    "            for r,c in [(-1,0),(0,-1)]:\n",
    "                pr = r+i\n",
    "                pc = c+j\n",
    "                if pr < 0 or pc < 0 or pr >= m or pc >= n:\n",
    "                    continue\n",
    "                cases[i][j] += cases[pr][pc]\n",
    "    return cases[m-1][n-1]"
   ]
  },
  {
   "cell_type": "code",
   "execution_count": 12,
   "id": "f1f06ef4",
   "metadata": {},
   "outputs": [
    {
     "data": {
      "text/plain": [
       "3"
      ]
     },
     "execution_count": 12,
     "metadata": {},
     "output_type": "execute_result"
    }
   ],
   "source": [
    "uniquePaths(3, 2)"
   ]
  },
  {
   "cell_type": "code",
   "execution_count": null,
   "id": "c3283d2c",
   "metadata": {},
   "outputs": [],
   "source": []
  }
 ],
 "metadata": {
  "kernelspec": {
   "display_name": "python3.8",
   "language": "python",
   "name": "python3.8"
  },
  "language_info": {
   "codemirror_mode": {
    "name": "ipython",
    "version": 3
   },
   "file_extension": ".py",
   "mimetype": "text/x-python",
   "name": "python",
   "nbconvert_exporter": "python",
   "pygments_lexer": "ipython3",
   "version": "3.8.16"
  }
 },
 "nbformat": 4,
 "nbformat_minor": 5
}
