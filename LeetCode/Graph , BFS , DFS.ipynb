{
 "cells": [
  {
   "cell_type": "markdown",
   "id": "87d7601b",
   "metadata": {},
   "source": [
    "#### 733. Flood Fill"
   ]
  },
  {
   "cell_type": "code",
   "execution_count": 1,
   "id": "f86db38a",
   "metadata": {},
   "outputs": [],
   "source": [
    "from collections import deque\n",
    "\n",
    "def floodFill(image, sr, sc, color):\n",
    "    m = len(image)\n",
    "    n = len(image[0])\n",
    "    prev = image[sr][sc]\n",
    "    directions = [(-1,0), (0,-1), (1,0), (0,1)]\n",
    "    visited = [[0]*n for _ in range(m)]   \n",
    "    q = deque([(sr, sc)])\n",
    "    \n",
    "    while q:\n",
    "        r, c = q.popleft()\n",
    "        image[r][c] = color\n",
    "        \n",
    "        for d in directions:\n",
    "            dr = d[0] + r\n",
    "            dc = d[1] + c\n",
    "            if dr < 0 or dc < 0 or dr >= m or dc >= n:\n",
    "                continue\n",
    "            if image[dr][dc] == prev and visited[dr][dc] == 0:\n",
    "                q.append((dr, dc))\n",
    "                visited[dr][dc] = 1\n",
    "                \n",
    "    return image\n",
    "    "
   ]
  },
  {
   "cell_type": "code",
   "execution_count": 2,
   "id": "11195e0d",
   "metadata": {},
   "outputs": [
    {
     "data": {
      "text/plain": [
       "[[2, 2, 2], [2, 2, 0], [2, 0, 1]]"
      ]
     },
     "execution_count": 2,
     "metadata": {},
     "output_type": "execute_result"
    }
   ],
   "source": [
    "floodFill(image = [[1,1,1],[1,1,0],[1,0,1]], sr = 1, sc = 1, color = 2)"
   ]
  },
  {
   "cell_type": "markdown",
   "id": "da446b93",
   "metadata": {},
   "source": [
    "#### 200. Number of Islands"
   ]
  },
  {
   "cell_type": "code",
   "execution_count": 3,
   "id": "900267f2",
   "metadata": {},
   "outputs": [],
   "source": [
    "def numIslands(grid):\n",
    "    m = len(grid)\n",
    "    n = len(grid[0])\n",
    "    directions = [(-1,0), (0,-1), (1,0), (0,1)]\n",
    "    visited = [[0]*n for _ in range(m)]   \n",
    "    cnt = 0\n",
    "    for i in range(m):\n",
    "        for j in range(n):\n",
    "            if visited[i][j] == 0 and grid[i][j] == '1':\n",
    "                cnt += 1\n",
    "                q = deque([(i, j)])\n",
    "                visited[i][j] = 1\n",
    "                while q:\n",
    "                    r, c = q.popleft()\n",
    "                    \n",
    "                    for d in directions:\n",
    "                        dr = d[0] + r\n",
    "                        dc = d[1] + c\n",
    "                        if dr < 0 or dc < 0 or dr >= m or dc >= n:\n",
    "                            continue\n",
    "                        if grid[dr][dc] == '1' and visited[dr][dc] == 0:\n",
    "                            q.append((dr, dc))\n",
    "                            visited[dr][dc] = 1\n",
    "    return cnt\n",
    "    "
   ]
  },
  {
   "cell_type": "code",
   "execution_count": 5,
   "id": "744dc12b",
   "metadata": {},
   "outputs": [
    {
     "data": {
      "text/plain": [
       "3"
      ]
     },
     "execution_count": 5,
     "metadata": {},
     "output_type": "execute_result"
    }
   ],
   "source": [
    "numIslands(grid = [\n",
    "  [\"1\",\"1\",\"0\",\"0\",\"0\"],\n",
    "  [\"1\",\"1\",\"0\",\"0\",\"0\"],\n",
    "  [\"0\",\"0\",\"1\",\"0\",\"0\"],\n",
    "  [\"0\",\"0\",\"0\",\"1\",\"1\"]\n",
    "])"
   ]
  },
  {
   "cell_type": "code",
   "execution_count": null,
   "id": "69cd9d5c",
   "metadata": {},
   "outputs": [],
   "source": []
  }
 ],
 "metadata": {
  "kernelspec": {
   "display_name": "python3.8",
   "language": "python",
   "name": "python3.8"
  },
  "language_info": {
   "codemirror_mode": {
    "name": "ipython",
    "version": 3
   },
   "file_extension": ".py",
   "mimetype": "text/x-python",
   "name": "python",
   "nbconvert_exporter": "python",
   "pygments_lexer": "ipython3",
   "version": "3.8.16"
  }
 },
 "nbformat": 4,
 "nbformat_minor": 5
}
